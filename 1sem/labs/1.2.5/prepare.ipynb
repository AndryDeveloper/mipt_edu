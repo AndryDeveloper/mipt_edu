{
 "cells": [
  {
   "cell_type": "markdown",
   "id": "a2b2fd51",
   "metadata": {},
   "source": [
    "## Вспомогательные функции"
   ]
  },
  {
   "cell_type": "code",
   "execution_count": 4,
   "id": "3a870546",
   "metadata": {},
   "outputs": [],
   "source": [
    "import pandas as pd\n",
    "import numpy as np\n",
    "import matplotlib.pyplot as plt\n",
    "from math import log10, floor, ceil"
   ]
  },
  {
   "cell_type": "code",
   "execution_count": 5,
   "id": "ac4e1d20",
   "metadata": {},
   "outputs": [],
   "source": [
    "def mnk(x, y):\n",
    "    b = (np.mean(x*y) - np.mean(x)*np.mean(y))/(np.mean(x**2) - np.mean(x)**2)\n",
    "    a = np.mean(y) - b*np.mean(x)\n",
    "    sb = 1/np.sqrt(len(x)) * np.sqrt((np.mean(y**2) - np.mean(y)**2)/(np.mean(x**2) - np.mean(x)**2) - b**2)\n",
    "    sa = sb*np.sqrt(np.mean(x**2) - np.mean(x)**2)\n",
    "    \n",
    "    return a, b, sa, sb\n",
    "\n",
    "def mnk_a0(x, y):\n",
    "    b = np.mean(x*y)/np.mean(x**2)\n",
    "    sb = 1/np.sqrt(len(x)) * np.sqrt((np.mean(y**2)/np.mean(x**2)) - b**2)\n",
    "    \n",
    "    return b, sb\n",
    "\n",
    "def round_to_1(x):\n",
    "    return round(x*10**-int(floor(log10(abs(x)))))/10**-int(floor(log10(abs(x))))\n",
    "\n",
    "def science_notation(x, err):\n",
    "    err = round_to_1(err)\n",
    "    x = round(x, len(str(err))-2)\n",
    "    return f'{str(x) + \"0\"*(len(str(err)) - len(str(x)))}±{str(err)}', (str(x) + \"0\"*(len(str(err)) - len(str(x))), str(err))"
   ]
  },
  {
   "cell_type": "markdown",
   "id": "f9725ce6",
   "metadata": {},
   "source": [
    "## Читаем данные и задаём их погрешности"
   ]
  },
  {
   "cell_type": "code",
   "execution_count": 6,
   "id": "c6b30360",
   "metadata": {},
   "outputs": [
    {
     "data": {
      "text/html": [
       "<div>\n",
       "<style scoped>\n",
       "    .dataframe tbody tr th:only-of-type {\n",
       "        vertical-align: middle;\n",
       "    }\n",
       "\n",
       "    .dataframe tbody tr th {\n",
       "        vertical-align: top;\n",
       "    }\n",
       "\n",
       "    .dataframe thead th {\n",
       "        text-align: right;\n",
       "    }\n",
       "</style>\n",
       "<table border=\"1\" class=\"dataframe\">\n",
       "  <thead>\n",
       "    <tr style=\"text-align: right;\">\n",
       "      <th></th>\n",
       "      <th>m</th>\n",
       "      <th>l</th>\n",
       "      <th>M</th>\n",
       "      <th>h</th>\n",
       "      <th>alpha</th>\n",
       "      <th>n</th>\n",
       "      <th>t</th>\n",
       "      <th>w</th>\n",
       "      <th>W</th>\n",
       "    </tr>\n",
       "  </thead>\n",
       "  <tbody>\n",
       "    <tr>\n",
       "      <th>0</th>\n",
       "      <td>337.5</td>\n",
       "      <td>121</td>\n",
       "      <td>0.400207</td>\n",
       "      <td>18.0</td>\n",
       "      <td>14.205565</td>\n",
       "      <td>7</td>\n",
       "      <td>211.95</td>\n",
       "      <td>0.207513</td>\n",
       "      <td>0.001170</td>\n",
       "    </tr>\n",
       "    <tr>\n",
       "      <th>1</th>\n",
       "      <td>337.5</td>\n",
       "      <td>97</td>\n",
       "      <td>0.320827</td>\n",
       "      <td>18.0</td>\n",
       "      <td>14.205565</td>\n",
       "      <td>6</td>\n",
       "      <td>221.78</td>\n",
       "      <td>0.169984</td>\n",
       "      <td>0.001118</td>\n",
       "    </tr>\n",
       "    <tr>\n",
       "      <th>2</th>\n",
       "      <td>214.4</td>\n",
       "      <td>121</td>\n",
       "      <td>0.254236</td>\n",
       "      <td>17.5</td>\n",
       "      <td>9.470377</td>\n",
       "      <td>3</td>\n",
       "      <td>139.95</td>\n",
       "      <td>0.134688</td>\n",
       "      <td>0.001181</td>\n",
       "    </tr>\n",
       "    <tr>\n",
       "      <th>3</th>\n",
       "      <td>214.4</td>\n",
       "      <td>97</td>\n",
       "      <td>0.203809</td>\n",
       "      <td>17.5</td>\n",
       "      <td>9.470377</td>\n",
       "      <td>2</td>\n",
       "      <td>116.45</td>\n",
       "      <td>0.107912</td>\n",
       "      <td>0.001419</td>\n",
       "    </tr>\n",
       "    <tr>\n",
       "      <th>4</th>\n",
       "      <td>140.8</td>\n",
       "      <td>121</td>\n",
       "      <td>0.166961</td>\n",
       "      <td>18.0</td>\n",
       "      <td>14.205565</td>\n",
       "      <td>3</td>\n",
       "      <td>213.72</td>\n",
       "      <td>0.088197</td>\n",
       "      <td>0.001160</td>\n",
       "    </tr>\n",
       "    <tr>\n",
       "      <th>5</th>\n",
       "      <td>140.8</td>\n",
       "      <td>97</td>\n",
       "      <td>0.133844</td>\n",
       "      <td>18.5</td>\n",
       "      <td>18.940754</td>\n",
       "      <td>3</td>\n",
       "      <td>263.92</td>\n",
       "      <td>0.071421</td>\n",
       "      <td>0.001253</td>\n",
       "    </tr>\n",
       "    <tr>\n",
       "      <th>6</th>\n",
       "      <td>75.9</td>\n",
       "      <td>121</td>\n",
       "      <td>0.090002</td>\n",
       "      <td>18.0</td>\n",
       "      <td>14.205565</td>\n",
       "      <td>2</td>\n",
       "      <td>261.02</td>\n",
       "      <td>0.048143</td>\n",
       "      <td>0.000950</td>\n",
       "    </tr>\n",
       "    <tr>\n",
       "      <th>7</th>\n",
       "      <td>75.9</td>\n",
       "      <td>97</td>\n",
       "      <td>0.072151</td>\n",
       "      <td>18.7</td>\n",
       "      <td>20.834829</td>\n",
       "      <td>2</td>\n",
       "      <td>326.13</td>\n",
       "      <td>0.038532</td>\n",
       "      <td>0.001115</td>\n",
       "    </tr>\n",
       "  </tbody>\n",
       "</table>\n",
       "</div>"
      ],
      "text/plain": [
       "       m    l         M     h      alpha  n       t         w         W\n",
       "0  337.5  121  0.400207  18.0  14.205565  7  211.95  0.207513  0.001170\n",
       "1  337.5   97  0.320827  18.0  14.205565  6  221.78  0.169984  0.001118\n",
       "2  214.4  121  0.254236  17.5   9.470377  3  139.95  0.134688  0.001181\n",
       "3  214.4   97  0.203809  17.5   9.470377  2  116.45  0.107912  0.001419\n",
       "4  140.8  121  0.166961  18.0  14.205565  3  213.72  0.088197  0.001160\n",
       "5  140.8   97  0.133844  18.5  18.940754  3  263.92  0.071421  0.001253\n",
       "6   75.9  121  0.090002  18.0  14.205565  2  261.02  0.048143  0.000950\n",
       "7   75.9   97  0.072151  18.7  20.834829  2  326.13  0.038532  0.001115"
      ]
     },
     "execution_count": 6,
     "metadata": {},
     "output_type": "execute_result"
    }
   ],
   "source": [
    "df = pd.read_csv('data/t1.csv')\n",
    "df"
   ]
  },
  {
   "cell_type": "code",
   "execution_count": 7,
   "id": "8217e05d",
   "metadata": {},
   "outputs": [],
   "source": [
    "sm = 0.05\n",
    "sl = 1\n",
    "sh = 0.1\n",
    "st = 0.3\n",
    "\n",
    "\n",
    "sMs = (np.sqrt((sm/df.m)**2 + (sl/df.l)**2) * df.M).values\n",
    "sws = (st/df.t * df.w).values\n",
    "sWs = (np.sqrt((sh/df.h)**2 + (st/df.t)**2) * df.W).values"
   ]
  },
  {
   "cell_type": "markdown",
   "id": "37bf9735",
   "metadata": {},
   "source": [
    "## Строим график момента сил подвешенного груза от циклической частоты и вычиляем момент трения в горизонтальной оси и момент имульса гироскопа"
   ]
  },
  {
   "cell_type": "code",
   "execution_count": 63,
   "id": "131f99e9",
   "metadata": {},
   "outputs": [
    {
     "name": "stdout",
     "output_type": "stream",
     "text": [
      "Mtr = -0.0034±0.0007, 20.0%, L = 1.93±0.02, 1.0%\n"
     ]
    },
    {
     "data": {
      "image/png": "[encoded data removed]",
      "text/plain": [
       "<Figure size 1008x720 with 1 Axes>"
      ]
     },
     "metadata": {
      "needs_background": "light"
     },
     "output_type": "display_data"
    }
   ],
   "source": [
    "plt.rc('font', size=22)\n",
    "\n",
    "fig, ax = plt.subplots(figsize=(14, 10))\n",
    "ax.spines['bottom'].set_linewidth(2)\n",
    "ax.spines['top'].set_linewidth(2)\n",
    "ax.spines['right'].set_linewidth(2)\n",
    "ax.spines['left'].set_linewidth(2)\n",
    "\n",
    "ax.xaxis.set_tick_params(width=2, length=7)\n",
    "ax.yaxis.set_tick_params(width=2, length=7)\n",
    "\n",
    "ax.scatter(df.w, df.M, linewidth=2)\n",
    "a, b, sa, sb = mnk(df.w, df.M)\n",
    "\n",
    "X = np.array([min(df.w)*0.9, max(df.w)*1.02])\n",
    "Y = a + b*X\n",
    "ax.plot(X, Y, linewidth=2)\n",
    "L = b\n",
    "sL = sb\n",
    "Mtr1 = -a\n",
    "\n",
    "ax.set_xlabel(r\"$w, \\frac{1}{с}$\")\n",
    "ax.set_ylabel(r\"$M, Н\\cdotм$\")\n",
    "\n",
    "fig.savefig(r'D:\\LabProjects\\1.2.5\\report\\images\\1.eps', format='eps')\n",
    "\n",
    "sa = np.sqrt((np.max(sMs/df.M)**2 + np.max(sws/df.m)**2)*a**2 + sa**2)\n",
    "sb = np.sqrt((np.max(sMs/df.M)**2 + np.max(sws/df.m)**2)*b**2 + sb**2)\n",
    "print(f'Mtr = {science_notation(a, sa)[0]}, {round_to_1(abs(sa/a*100))}%, L = {science_notation(b, sb)[0]}, {round_to_1(abs(sb/b*100))}%')"
   ]
  },
  {
   "cell_type": "markdown",
   "id": "4835e0c4",
   "metadata": {},
   "source": [
    "## Вычисляем момент сил трения в вертикальной оси"
   ]
  },
  {
   "cell_type": "code",
   "execution_count": 62,
   "id": "65cc1b43",
   "metadata": {},
   "outputs": [
    {
     "name": "stdout",
     "output_type": "stream",
     "text": [
      "Mtr2 = 0.002±4e-05, 2.0%\n"
     ]
    }
   ],
   "source": [
    "Mtr2 = np.mean(df.W*L)\n",
    "Mtr2_std = np.std(df.W*L)/len(df.W)\n",
    "smtr2 = np.sqrt(np.max(sWs/df.W)**2 + np.max(sb/L)**2) * Mtr2\n",
    "\n",
    "errMtr2 = np.sqrt((smtr2)**2 + Mtr2_std**2)\n",
    "\n",
    "print(f'Mtr2 = {science_notation(Mtr2, errMtr2)[0]}, {round_to_1(abs(errMtr2/Mtr2*100))}%')"
   ]
  },
  {
   "cell_type": "code",
   "execution_count": 19,
   "id": "28e24e47",
   "metadata": {},
   "outputs": [
    {
     "data": {
      "text/plain": [
       "0.0022555799571338467"
      ]
     },
     "execution_count": 19,
     "metadata": {},
     "output_type": "execute_result"
    }
   ],
   "source": [
    "Mtr2"
   ]
  },
  {
   "cell_type": "markdown",
   "id": "754e0b29",
   "metadata": {},
   "source": [
    "## Читаем данные по 2 эксперименту"
   ]
  },
  {
   "cell_type": "code",
   "execution_count": 10,
   "id": "46c3fc3b",
   "metadata": {},
   "outputs": [
    {
     "data": {
      "text/html": [
       "<div>\n",
       "<style scoped>\n",
       "    .dataframe tbody tr th:only-of-type {\n",
       "        vertical-align: middle;\n",
       "    }\n",
       "\n",
       "    .dataframe tbody tr th {\n",
       "        vertical-align: top;\n",
       "    }\n",
       "\n",
       "    .dataframe thead th {\n",
       "        text-align: right;\n",
       "    }\n",
       "</style>\n",
       "<table border=\"1\" class=\"dataframe\">\n",
       "  <thead>\n",
       "    <tr style=\"text-align: right;\">\n",
       "      <th></th>\n",
       "      <th>t</th>\n",
       "      <th>f</th>\n",
       "    </tr>\n",
       "  </thead>\n",
       "  <tbody>\n",
       "    <tr>\n",
       "      <th>0</th>\n",
       "      <td>8.92</td>\n",
       "      <td>385</td>\n",
       "    </tr>\n",
       "    <tr>\n",
       "      <th>1</th>\n",
       "      <td>22.53</td>\n",
       "      <td>380</td>\n",
       "    </tr>\n",
       "    <tr>\n",
       "      <th>2</th>\n",
       "      <td>35.90</td>\n",
       "      <td>375</td>\n",
       "    </tr>\n",
       "    <tr>\n",
       "      <th>3</th>\n",
       "      <td>50.02</td>\n",
       "      <td>370</td>\n",
       "    </tr>\n",
       "    <tr>\n",
       "      <th>4</th>\n",
       "      <td>63.77</td>\n",
       "      <td>365</td>\n",
       "    </tr>\n",
       "    <tr>\n",
       "      <th>5</th>\n",
       "      <td>73.78</td>\n",
       "      <td>360</td>\n",
       "    </tr>\n",
       "    <tr>\n",
       "      <th>6</th>\n",
       "      <td>91.38</td>\n",
       "      <td>355</td>\n",
       "    </tr>\n",
       "    <tr>\n",
       "      <th>7</th>\n",
       "      <td>105.56</td>\n",
       "      <td>350</td>\n",
       "    </tr>\n",
       "    <tr>\n",
       "      <th>8</th>\n",
       "      <td>119.95</td>\n",
       "      <td>345</td>\n",
       "    </tr>\n",
       "    <tr>\n",
       "      <th>9</th>\n",
       "      <td>134.50</td>\n",
       "      <td>340</td>\n",
       "    </tr>\n",
       "    <tr>\n",
       "      <th>10</th>\n",
       "      <td>148.56</td>\n",
       "      <td>335</td>\n",
       "    </tr>\n",
       "    <tr>\n",
       "      <th>11</th>\n",
       "      <td>163.02</td>\n",
       "      <td>330</td>\n",
       "    </tr>\n",
       "    <tr>\n",
       "      <th>12</th>\n",
       "      <td>177.71</td>\n",
       "      <td>325</td>\n",
       "    </tr>\n",
       "    <tr>\n",
       "      <th>13</th>\n",
       "      <td>191.87</td>\n",
       "      <td>320</td>\n",
       "    </tr>\n",
       "    <tr>\n",
       "      <th>14</th>\n",
       "      <td>207.56</td>\n",
       "      <td>315</td>\n",
       "    </tr>\n",
       "    <tr>\n",
       "      <th>15</th>\n",
       "      <td>221.25</td>\n",
       "      <td>310</td>\n",
       "    </tr>\n",
       "    <tr>\n",
       "      <th>16</th>\n",
       "      <td>235.71</td>\n",
       "      <td>305</td>\n",
       "    </tr>\n",
       "    <tr>\n",
       "      <th>17</th>\n",
       "      <td>251.08</td>\n",
       "      <td>300</td>\n",
       "    </tr>\n",
       "    <tr>\n",
       "      <th>18</th>\n",
       "      <td>266.10</td>\n",
       "      <td>295</td>\n",
       "    </tr>\n",
       "    <tr>\n",
       "      <th>19</th>\n",
       "      <td>281.68</td>\n",
       "      <td>290</td>\n",
       "    </tr>\n",
       "    <tr>\n",
       "      <th>20</th>\n",
       "      <td>297.00</td>\n",
       "      <td>285</td>\n",
       "    </tr>\n",
       "    <tr>\n",
       "      <th>21</th>\n",
       "      <td>313.20</td>\n",
       "      <td>280</td>\n",
       "    </tr>\n",
       "    <tr>\n",
       "      <th>22</th>\n",
       "      <td>327.98</td>\n",
       "      <td>275</td>\n",
       "    </tr>\n",
       "    <tr>\n",
       "      <th>23</th>\n",
       "      <td>344.22</td>\n",
       "      <td>270</td>\n",
       "    </tr>\n",
       "    <tr>\n",
       "      <th>24</th>\n",
       "      <td>360.82</td>\n",
       "      <td>265</td>\n",
       "    </tr>\n",
       "    <tr>\n",
       "      <th>25</th>\n",
       "      <td>376.98</td>\n",
       "      <td>260</td>\n",
       "    </tr>\n",
       "    <tr>\n",
       "      <th>26</th>\n",
       "      <td>394.13</td>\n",
       "      <td>255</td>\n",
       "    </tr>\n",
       "    <tr>\n",
       "      <th>27</th>\n",
       "      <td>411.50</td>\n",
       "      <td>250</td>\n",
       "    </tr>\n",
       "    <tr>\n",
       "      <th>28</th>\n",
       "      <td>428.83</td>\n",
       "      <td>245</td>\n",
       "    </tr>\n",
       "    <tr>\n",
       "      <th>29</th>\n",
       "      <td>446.75</td>\n",
       "      <td>240</td>\n",
       "    </tr>\n",
       "    <tr>\n",
       "      <th>30</th>\n",
       "      <td>464.23</td>\n",
       "      <td>235</td>\n",
       "    </tr>\n",
       "    <tr>\n",
       "      <th>31</th>\n",
       "      <td>482.40</td>\n",
       "      <td>230</td>\n",
       "    </tr>\n",
       "    <tr>\n",
       "      <th>32</th>\n",
       "      <td>500.78</td>\n",
       "      <td>225</td>\n",
       "    </tr>\n",
       "    <tr>\n",
       "      <th>33</th>\n",
       "      <td>519.30</td>\n",
       "      <td>220</td>\n",
       "    </tr>\n",
       "    <tr>\n",
       "      <th>34</th>\n",
       "      <td>538.35</td>\n",
       "      <td>215</td>\n",
       "    </tr>\n",
       "    <tr>\n",
       "      <th>35</th>\n",
       "      <td>557.62</td>\n",
       "      <td>210</td>\n",
       "    </tr>\n",
       "    <tr>\n",
       "      <th>36</th>\n",
       "      <td>576.33</td>\n",
       "      <td>205</td>\n",
       "    </tr>\n",
       "    <tr>\n",
       "      <th>37</th>\n",
       "      <td>596.18</td>\n",
       "      <td>200</td>\n",
       "    </tr>\n",
       "  </tbody>\n",
       "</table>\n",
       "</div>"
      ],
      "text/plain": [
       "         t    f\n",
       "0     8.92  385\n",
       "1    22.53  380\n",
       "2    35.90  375\n",
       "3    50.02  370\n",
       "4    63.77  365\n",
       "5    73.78  360\n",
       "6    91.38  355\n",
       "7   105.56  350\n",
       "8   119.95  345\n",
       "9   134.50  340\n",
       "10  148.56  335\n",
       "11  163.02  330\n",
       "12  177.71  325\n",
       "13  191.87  320\n",
       "14  207.56  315\n",
       "15  221.25  310\n",
       "16  235.71  305\n",
       "17  251.08  300\n",
       "18  266.10  295\n",
       "19  281.68  290\n",
       "20  297.00  285\n",
       "21  313.20  280\n",
       "22  327.98  275\n",
       "23  344.22  270\n",
       "24  360.82  265\n",
       "25  376.98  260\n",
       "26  394.13  255\n",
       "27  411.50  250\n",
       "28  428.83  245\n",
       "29  446.75  240\n",
       "30  464.23  235\n",
       "31  482.40  230\n",
       "32  500.78  225\n",
       "33  519.30  220\n",
       "34  538.35  215\n",
       "35  557.62  210\n",
       "36  576.33  205\n",
       "37  596.18  200"
      ]
     },
     "execution_count": 10,
     "metadata": {},
     "output_type": "execute_result"
    }
   ],
   "source": [
    "df2 = pd.read_csv('data/t2.csv')\n",
    "df2"
   ]
  },
  {
   "cell_type": "markdown",
   "id": "efb92885",
   "metadata": {},
   "source": [
    "## Построим график f(t) и убедимся в нелинейности затухания частоты"
   ]
  },
  {
   "cell_type": "code",
   "execution_count": 26,
   "id": "b1cb9f21",
   "metadata": {},
   "outputs": [
    {
     "data": {
      "image/png": "[encoded data removed]",
      "text/plain": [
       "<Figure size 1008x720 with 1 Axes>"
      ]
     },
     "metadata": {
      "needs_background": "light"
     },
     "output_type": "display_data"
    }
   ],
   "source": [
    "plt.rc('font', size=22)\n",
    "\n",
    "fig, ax = plt.subplots(figsize=(14, 10))\n",
    "ax.spines['bottom'].set_linewidth(2)\n",
    "ax.spines['top'].set_linewidth(2)\n",
    "ax.spines['right'].set_linewidth(2)\n",
    "ax.spines['left'].set_linewidth(2)\n",
    "\n",
    "ax.xaxis.set_tick_params(width=2, length=7)\n",
    "ax.yaxis.set_tick_params(width=2, length=7)\n",
    "\n",
    "ax.plot(df2.t, df2.f, linewidth=2)\n",
    "ax.scatter(df2.t, df2.f, linewidth=2)\n",
    "\n",
    "ax.set_xlabel(r\"$t, с$\")\n",
    "ax.set_ylabel(r\"$f, Гц$\")\n",
    "\n",
    "fig.savefig(r'D:\\LabProjects\\1.2.5\\report\\images\\2.eps', format='eps')"
   ]
  },
  {
   "cell_type": "markdown",
   "id": "005564a3",
   "metadata": {},
   "source": [
    "## Построим график логарифма производной от логарифма частоты для определения характера зависимости скорости затухания"
   ]
  },
  {
   "cell_type": "code",
   "execution_count": 12,
   "id": "6ebad20e",
   "metadata": {},
   "outputs": [],
   "source": [
    "f, t = df2.f.values, df2.t.values\n",
    "df_dt = -np.array([f[i] - f[i-1] for i in range(1, len(f))])/np.array([t[i] - t[i-1] for i in range(1, len(t))])\n",
    "fp = f[1:]"
   ]
  },
  {
   "cell_type": "code",
   "execution_count": 13,
   "id": "8ccfd450",
   "metadata": {},
   "outputs": [],
   "source": [
    "sdf_dt = np.sqrt(2)*st/np.array([t[i] - t[i-1] for i in range(1, len(t))])*df_dt"
   ]
  },
  {
   "cell_type": "code",
   "execution_count": 65,
   "id": "6e3494ba",
   "metadata": {},
   "outputs": [
    {
     "name": "stdout",
     "output_type": "stream",
     "text": [
      "degree = 0.61±0.07, 10.0%\n"
     ]
    },
    {
     "data": {
      "image/png": "[encoded data removed]",
      "text/plain": [
       "<Figure size 1008x720 with 1 Axes>"
      ]
     },
     "metadata": {
      "needs_background": "light"
     },
     "output_type": "display_data"
    }
   ],
   "source": [
    "plt.rc('font', size=22)\n",
    "\n",
    "fig, ax = plt.subplots(figsize=(14, 10))\n",
    "ax.spines['bottom'].set_linewidth(2)\n",
    "ax.spines['top'].set_linewidth(2)\n",
    "ax.spines['right'].set_linewidth(2)\n",
    "ax.spines['left'].set_linewidth(2)\n",
    "\n",
    "ax.scatter(np.log(fp), np.log(df_dt), linewidth=2)\n",
    "\n",
    "a, b, sa, sb = mnk(np.log(fp), np.log(df_dt))\n",
    "\n",
    "X = np.array([min(np.log(fp))*0.97, max(np.log(fp))*1.03])\n",
    "Y = a + b*X\n",
    "ax.plot(X, Y, linewidth=2)\n",
    "degree = b\n",
    "ax.errorbar(np.log(fp), np.log(df_dt), yerr=sdf_dt/df_dt, fmt='none', linewidth=2, capsize=6)\n",
    "\n",
    "ax.set_xlabel(r\"$\\ln{f}$\")\n",
    "ax.set_ylabel(r\"$\\ln{\\frac{df}{dt}}$\")\n",
    "\n",
    "fig.savefig(r'D:\\LabProjects\\1.2.5\\report\\images\\3.eps', format='eps')\n",
    "\n",
    "sb = np.sqrt(np.max(b*sdf_dt/df_dt)**2 + sb**2)\n",
    "sdegree = sb\n",
    "print(f'degree = {science_notation(b, sb)[0]}, {round_to_1(abs(sb/b*100))}%')"
   ]
  },
  {
   "cell_type": "markdown",
   "id": "cba8816c",
   "metadata": {},
   "source": [
    "## Зная линеаризацию построим линеаризованный график в исходных координатах"
   ]
  },
  {
   "cell_type": "code",
   "execution_count": 25,
   "id": "376a4b2a",
   "metadata": {},
   "outputs": [
    {
     "name": "stdout",
     "output_type": "stream",
     "text": [
      "Начальная частота: 388.9±0.2, 0.04\n",
      "A: -0.004±4e-06, 0.1\n"
     ]
    },
    {
     "data": {
      "image/png": "[encoded data removed]",
      "text/plain": [
       "<Figure size 1008x720 with 1 Axes>"
      ]
     },
     "metadata": {
      "needs_background": "light"
     },
     "output_type": "display_data"
    }
   ],
   "source": [
    "plt.rc('font', size=22)\n",
    "\n",
    "fig, ax = plt.subplots(figsize=(14, 10))\n",
    "ax.spines['bottom'].set_linewidth(2)\n",
    "ax.spines['top'].set_linewidth(2)\n",
    "ax.spines['right'].set_linewidth(2)\n",
    "ax.spines['left'].set_linewidth(2)\n",
    "\n",
    "ax.scatter(df2.t, df2.f**(-degree+1), linewidth=2)\n",
    "\n",
    "a, b, sa, sb = mnk(df2.t, df2.f**(-degree+1))\n",
    "\n",
    "X = np.array([min(df2.t), max(df2.t)*1.02])\n",
    "Y = a + b*X\n",
    "ax.plot(X, Y, linewidth=2)\n",
    "\n",
    "ax.set_xlabel(r\"$t$\")\n",
    "ax.set_ylabel(r\"$\\frac{f^p}{p}$\")\n",
    "\n",
    "fig.savefig(r'D:\\LabProjects\\1.2.5\\report\\images\\4.eps', format='eps')\n",
    "\n",
    "f0 = (a)**(1/(-degree+1))\n",
    "\n",
    "p = 1-degree\n",
    "qwert = a**p*p**(1/p)*(np.log(p) - (np.log(p) - 1)/p**2)\n",
    "sf0 = np.sqrt((qwert*sdegree)**2 + (p*a**(p-1)*p**(1/p) * sa)**2)\n",
    "\n",
    "A = b\n",
    "sA = sb\n",
    "\n",
    "print(f'Начальная частота: {science_notation(f0, sf0)[0]}, {round_to_1(abs(sf0/f0*100))}')\n",
    "print(f'A: {science_notation(A, sA)[0]}, {round_to_1(abs(sA/A*100))}')"
   ]
  },
  {
   "cell_type": "markdown",
   "id": "21fcd53f",
   "metadata": {},
   "source": [
    "## Найдём момент инерции гироскопа"
   ]
  },
  {
   "cell_type": "code",
   "execution_count": 16,
   "id": "a3f0430e",
   "metadata": {},
   "outputs": [
    {
     "data": {
      "text/plain": [
       "(0.0014477639439375, 1.7653703451872892e-05, 0.012193772006684955)"
      ]
     },
     "execution_count": 16,
     "metadata": {},
     "output_type": "execute_result"
    }
   ],
   "source": [
    "M = 1616.7/1000\n",
    "sM = 0.1/1000\n",
    "D = 7.6/100\n",
    "sD = 0.05/1000\n",
    "\n",
    "T = 63\n",
    "T0 = 80\n",
    "sT = 0.3\n",
    "\n",
    "I0 = M*(D/2)**2\n",
    "sI0 = np.sqrt((sM/M)**2 + (2*sD/D)**2)*I0\n",
    "I = I0*(T**2/T0**2)\n",
    "sI = np.sqrt((sI0/I0)**2 + (2*sT/T)**2 + (2*sT/T0)**2)*I\n",
    "I, sI, sI/I"
   ]
  },
  {
   "cell_type": "code",
   "execution_count": 17,
   "id": "50fb177b",
   "metadata": {},
   "outputs": [
    {
     "data": {
      "text/plain": [
       "(0.0023345148, 3.075122201295422e-06)"
      ]
     },
     "execution_count": 17,
     "metadata": {},
     "output_type": "execute_result"
    }
   ],
   "source": [
    "I0, sI0"
   ]
  },
  {
   "cell_type": "code",
   "execution_count": 14,
   "id": "b5b6fafb",
   "metadata": {},
   "outputs": [
    {
     "name": "stdout",
     "output_type": "stream",
     "text": [
      "Частота из момента инерции: 211.8±3.0, 1.0%\n"
     ]
    }
   ],
   "source": [
    "f_ = L/I/2/np.pi\n",
    "sf_ = np.sqrt((sL/L)**2 + (sI/I)**2)*f_\n",
    "print(f'Частота из момента инерции: {science_notation(f_, sf_)[0]}, {round_to_1(abs(sf_/f_*100))}%')"
   ]
  },
  {
   "cell_type": "code",
   "execution_count": 59,
   "id": "cdd871b8",
   "metadata": {},
   "outputs": [
    {
     "name": "stdout",
     "output_type": "stream",
     "text": [
      "Частота из момента инерции: 1330.79±20.0, 1.0%\n"
     ]
    }
   ],
   "source": [
    "w_0 = L/I\n",
    "sw_0 = np.sqrt((sL/L)**2 + (sI/I)**2)*w_0\n",
    "print(f'Частота из момента инерции: {science_notation(w_0, sw_0)[0]}, {round_to_1(abs(sw_0/w_0*100))}%')"
   ]
  },
  {
   "cell_type": "code",
   "execution_count": 46,
   "id": "ac168025",
   "metadata": {},
   "outputs": [
    {
     "data": {
      "text/plain": [
       "18.437105069791006"
      ]
     },
     "execution_count": 46,
     "metadata": {},
     "output_type": "execute_result"
    }
   ],
   "source": [
    "sw_0"
   ]
  },
  {
   "cell_type": "markdown",
   "id": "23a151e0",
   "metadata": {},
   "source": [
    "## Отношение частот"
   ]
  },
  {
   "cell_type": "code",
   "execution_count": 34,
   "id": "8b3b2b9d",
   "metadata": {},
   "outputs": [
    {
     "name": "stdout",
     "output_type": "stream",
     "text": [
      "Отношение частот: 3.42±0.05, 1.0%\n"
     ]
    }
   ],
   "source": [
    "q = w_0/f0\n",
    "sq = np.sqrt((sf0/f0)**2 + (sw_0/w_0)**2)*q\n",
    "print(f'Отношение частот: {science_notation(q, sq)[0]}, {round_to_1(abs(sq/q*100))}%')"
   ]
  },
  {
   "cell_type": "code",
   "execution_count": 43,
   "id": "751fe5cd",
   "metadata": {},
   "outputs": [
    {
     "data": {
      "text/plain": [
       "(-9.09161354187339e-06, -7.477373870675464e-07)"
      ]
     },
     "execution_count": 43,
     "metadata": {},
     "output_type": "execute_result"
    }
   ],
   "source": [
    "gamma = (A*I)/(q**(-p))\n",
    "sgamma = np.sqrt((sA/A)**2 + (sI/I)**2 + (p*sq/q)**2 + (sdegree*np.log(q))**2) * gamma\n",
    "gamma, sgamma"
   ]
  },
  {
   "cell_type": "code",
   "execution_count": 52,
   "id": "1596ff33",
   "metadata": {},
   "outputs": [
    {
     "name": "stdout",
     "output_type": "stream",
     "text": [
      "gamma: 9.1±0.7, 8.0%\n"
     ]
    }
   ],
   "source": [
    "print(f'gamma: {science_notation(-gamma*1000000, -sgamma*1000000)[0]}, {round_to_1(abs(sgamma/gamma*100))}%')"
   ]
  },
  {
   "cell_type": "code",
   "execution_count": 50,
   "id": "b19b101f",
   "metadata": {},
   "outputs": [],
   "source": [
    "Mtr3 = gamma*w_0\n",
    "sMtr3 = np.sqrt((sgamma/gamma)**2 + (sw_0/sw_0)**2) * Mtr3"
   ]
  },
  {
   "cell_type": "code",
   "execution_count": 51,
   "id": "f31455db",
   "metadata": {},
   "outputs": [
    {
     "name": "stdout",
     "output_type": "stream",
     "text": [
      "Mtr_3: -0.012±-0.01, 100.0%\n"
     ]
    }
   ],
   "source": [
    "print(f'Mtr_3: {science_notation(Mtr3, sMtr3)[0]}, {round_to_1(abs(sMtr3/Mtr3*100))}%')"
   ]
  },
  {
   "cell_type": "markdown",
   "id": "a3aae8c1",
   "metadata": {},
   "source": [
    "## Посчитаем момент силы трения в главной оси, зная общую мощность в сети(подключено 3 гироскопа)"
   ]
  },
  {
   "cell_type": "code",
   "execution_count": 16,
   "id": "112b7e11",
   "metadata": {},
   "outputs": [
    {
     "data": {
      "text/plain": [
       "0.002060174118447601"
      ]
     },
     "execution_count": 16,
     "metadata": {},
     "output_type": "execute_result"
    }
   ],
   "source": [
    "#Тут хз вообще\n",
    "N = 23.5*0.35/3\n",
    "Mtr3 = N/(2*np.pi*f_)\n",
    "Mtr3"
   ]
  },
  {
   "cell_type": "code",
   "execution_count": null,
   "id": "f5ad4358",
   "metadata": {},
   "outputs": [],
   "source": []
  },
  {
   "cell_type": "code",
   "execution_count": 27,
   "id": "f7f94471",
   "metadata": {},
   "outputs": [
    {
     "ename": "NameError",
     "evalue": "name 'w_0' is not defined",
     "output_type": "error",
     "traceback": [
      "\u001b[1;31m---------------------------------------------------------------------------\u001b[0m",
      "\u001b[1;31mNameError\u001b[0m                                 Traceback (most recent call last)",
      "Input \u001b[1;32mIn [27]\u001b[0m, in \u001b[0;36m<cell line: 1>\u001b[1;34m()\u001b[0m\n\u001b[1;32m----> 1\u001b[0m \u001b[43mw_0\u001b[49m\n",
      "\u001b[1;31mNameError\u001b[0m: name 'w_0' is not defined"
     ]
    }
   ],
   "source": [
    "w_0 = "
   ]
  }
 ],
 "metadata": {
  "kernelspec": {
   "display_name": "Python 3 (ipykernel)",
   "language": "python",
   "name": "python3"
  },
  "language_info": {
   "codemirror_mode": {
    "name": "ipython",
    "version": 3
   },
   "file_extension": ".py",
   "mimetype": "text/x-python",
   "name": "python",
   "nbconvert_exporter": "python",
   "pygments_lexer": "ipython3",
   "version": "3.9.12"
  }
 },
 "nbformat": 4,
 "nbformat_minor": 5
}
