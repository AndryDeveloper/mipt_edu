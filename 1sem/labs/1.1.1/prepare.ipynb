{
 "cells": [
  {
   "cell_type": "code",
   "execution_count": 1,
   "id": "8a7009fe",
   "metadata": {},
   "outputs": [],
   "source": [
    "import pandas as pd\n",
    "import numpy as np\n",
    "import matplotlib.pyplot as plt\n",
    "from math import log10, floor, ceil"
   ]
  },
  {
   "cell_type": "code",
   "execution_count": 2,
   "id": "5a976e8a",
   "metadata": {},
   "outputs": [],
   "source": [
    "def mnk(x, y):\n",
    "    b = (np.mean(x*y) - np.mean(x)*np.mean(y))/(np.mean(x**2) - np.mean(x)**2)\n",
    "    a = np.mean(y) - b*np.mean(x)\n",
    "    sb = 1/np.sqrt(len(x)) * np.sqrt((np.mean(y**2) - np.mean(y)**2)/(np.mean(x**2) - np.mean(x)**2) - b**2)\n",
    "    sa = sb*np.sqrt(np.mean(x**2) - np.mean(x)**2)\n",
    "    \n",
    "    return a, b, sa, sb\n",
    "\n",
    "def mnk_a0(x, y):\n",
    "    b = np.mean(x*y)/np.mean(x**2)\n",
    "    sb = 1/np.sqrt(len(x)) * np.sqrt((np.mean(y**2)/np.mean(x**2)) - b**2)\n",
    "    \n",
    "    return b, sb\n",
    "\n",
    "def round_to_1(x):\n",
    "    return round(x*10**-int(floor(log10(abs(x)))))/10**-int(floor(log10(abs(x))))\n",
    "\n",
    "def science_notation(x, err):\n",
    "    err = round_to_1(err)\n",
    "    x = round(x, len(str(err))-2)\n",
    "    return f'{str(x) + \"0\"*(len(str(err)) - len(str(x)))}±{err}', (str(x) + \"0\"*(len(str(err)) - len(str(x))), str(err))"
   ]
  },
  {
   "cell_type": "code",
   "execution_count": 3,
   "id": "ef21c750",
   "metadata": {},
   "outputs": [
    {
     "data": {
      "text/plain": [
       "('0.0120±0.0001', ('0.0120', '0.0001'))"
      ]
     },
     "execution_count": 3,
     "metadata": {},
     "output_type": "execute_result"
    }
   ],
   "source": [
    "science_notation(0.012, 0.0001)"
   ]
  },
  {
   "cell_type": "markdown",
   "id": "ec06725c",
   "metadata": {},
   "source": [
    "## Таблица с харастеристиками приборов"
   ]
  },
  {
   "cell_type": "code",
   "execution_count": 4,
   "id": "22632256",
   "metadata": {},
   "outputs": [
    {
     "name": "stdout",
     "output_type": "stream",
     "text": [
      "\\begin{tabular}{lll}\n",
      " & Вольтметр & Миллиамперметр \\\\\n",
      "Система & Магнитоэлектрическая & Цифровая \\\\\n",
      "Класс точности & 0.2 & - \\\\\n",
      "Предел измерений $x_п$ & 0.6 В & 2 А - 0.5 А \\\\\n",
      "Число делений $x_п/n$ & 150 & - \\\\\n",
      "Чувствительность $n/x_п$ & 4 мВ/дел & - \\\\\n",
      "Абсолютная погрешность $\\Delta x_M$ & 2 мВ & 0.006 мА - 0.6 мА \\\\\n",
      "Внутреннее сопротивление прибора & 4000 Ом & 1.2 Ом \\\\\n",
      "\\end{tabular}\n",
      "\n"
     ]
    },
    {
     "data": {
      "text/html": [
       "<div>\n",
       "<style scoped>\n",
       "    .dataframe tbody tr th:only-of-type {\n",
       "        vertical-align: middle;\n",
       "    }\n",
       "\n",
       "    .dataframe tbody tr th {\n",
       "        vertical-align: top;\n",
       "    }\n",
       "\n",
       "    .dataframe thead th {\n",
       "        text-align: right;\n",
       "    }\n",
       "</style>\n",
       "<table border=\"1\" class=\"dataframe\">\n",
       "  <thead>\n",
       "    <tr style=\"text-align: right;\">\n",
       "      <th></th>\n",
       "      <th>Вольтметр</th>\n",
       "      <th>Миллиамперметр</th>\n",
       "    </tr>\n",
       "  </thead>\n",
       "  <tbody>\n",
       "    <tr>\n",
       "      <th>Система</th>\n",
       "      <td>Магнитоэлектрическая</td>\n",
       "      <td>Цифровая</td>\n",
       "    </tr>\n",
       "    <tr>\n",
       "      <th>Класс точности</th>\n",
       "      <td>0.2</td>\n",
       "      <td>-</td>\n",
       "    </tr>\n",
       "    <tr>\n",
       "      <th>Предел измерений $x_п$</th>\n",
       "      <td>0.6 В</td>\n",
       "      <td>2 А - 0.5 А</td>\n",
       "    </tr>\n",
       "    <tr>\n",
       "      <th>Число делений $x_п/n$</th>\n",
       "      <td>150</td>\n",
       "      <td>-</td>\n",
       "    </tr>\n",
       "    <tr>\n",
       "      <th>Чувствительность $n/x_п$</th>\n",
       "      <td>4 мВ/дел</td>\n",
       "      <td>-</td>\n",
       "    </tr>\n",
       "    <tr>\n",
       "      <th>Абсолютная погрешность $\\Delta x_M$</th>\n",
       "      <td>2 мВ</td>\n",
       "      <td>0.006 мА - 0.6 мА</td>\n",
       "    </tr>\n",
       "    <tr>\n",
       "      <th>Внутреннее сопротивление прибора</th>\n",
       "      <td>4000 Ом</td>\n",
       "      <td>1.2 Ом</td>\n",
       "    </tr>\n",
       "  </tbody>\n",
       "</table>\n",
       "</div>"
      ],
      "text/plain": [
       "                                                Вольтметр     Миллиамперметр\n",
       "Система                              Магнитоэлектрическая           Цифровая\n",
       "Класс точности                                        0.2                  -\n",
       "Предел измерений $x_п$                              0.6 В        2 А - 0.5 А\n",
       "Число делений $x_п/n$                                 150                  -\n",
       "Чувствительность $n/x_п$                         4 мВ/дел                  -\n",
       "Абсолютная погрешность $\\Delta x_M$                  2 мВ  0.006 мА - 0.6 мА\n",
       "Внутреннее сопротивление прибора                  4000 Ом             1.2 Ом"
      ]
     },
     "execution_count": 4,
     "metadata": {},
     "output_type": "execute_result"
    }
   ],
   "source": [
    "spec_df = pd.read_csv('data/specifications.csv', encoding='ansi', index_col=0)\n",
    "print(spec_df.style.to_latex())\n",
    "spec_df"
   ]
  },
  {
   "cell_type": "markdown",
   "id": "4f88c06a",
   "metadata": {},
   "source": [
    "## Таблица с диаметром проволоки"
   ]
  },
  {
   "cell_type": "code",
   "execution_count": 5,
   "id": "269b8d82",
   "metadata": {},
   "outputs": [],
   "source": [
    "wire_df = pd.read_csv('data/wire_diameter.csv', encoding='ansi', sep=';', index_col=0)"
   ]
  },
  {
   "cell_type": "code",
   "execution_count": 6,
   "id": "b5d19516",
   "metadata": {},
   "outputs": [],
   "source": [
    "d1_mean = np.mean(wire_df.iloc[0])\n",
    "d2_mean = np.mean(wire_df.iloc[1])\n",
    "\n",
    "d1_std = 1/len(wire_df.iloc[0]) * (sum([(d1_mean - _)**2 for _ in wire_df.iloc[0]]))**0.5\n",
    "d2_std = 1/len(wire_df.iloc[1]) * (sum([(d2_mean - _)**2 for _ in wire_df.iloc[1]]))**0.5"
   ]
  },
  {
   "cell_type": "code",
   "execution_count": 9,
   "id": "3bb277b9",
   "metadata": {},
   "outputs": [
    {
     "data": {
      "text/plain": [
       "(5.551115123125783e-17, 1.755416734288351e-17)"
      ]
     },
     "execution_count": 9,
     "metadata": {},
     "output_type": "execute_result"
    }
   ],
   "source": [
    "np.std(wire_df.iloc[0]), d1_std"
   ]
  },
  {
   "cell_type": "code",
   "execution_count": 7,
   "id": "a9cfe497",
   "metadata": {},
   "outputs": [],
   "source": [
    "errord1 = np.sqrt(d1_std**2 + 0.1**2)\n",
    "errord2 = np.sqrt(d2_std**2 + 0.01**2)"
   ]
  },
  {
   "cell_type": "code",
   "execution_count": 8,
   "id": "056b0945",
   "metadata": {},
   "outputs": [
    {
     "data": {
      "text/plain": [
       "0.35899999999999993"
      ]
     },
     "execution_count": 8,
     "metadata": {},
     "output_type": "execute_result"
    }
   ],
   "source": [
    "d2_mean"
   ]
  },
  {
   "cell_type": "code",
   "execution_count": 9,
   "id": "4b28c402",
   "metadata": {},
   "outputs": [
    {
     "data": {
      "text/plain": [
       "0.010143963722332608"
      ]
     },
     "execution_count": 9,
     "metadata": {},
     "output_type": "execute_result"
    }
   ],
   "source": [
    "(d2_std**2 + 0.01**2)**0.5"
   ]
  },
  {
   "cell_type": "code",
   "execution_count": 10,
   "id": "aaa682fa",
   "metadata": {},
   "outputs": [
    {
     "name": "stdout",
     "output_type": "stream",
     "text": [
      "Штангенциркуль: (0.4±0.1)мм, микрометр: (0.36±0.01)мм\n"
     ]
    }
   ],
   "source": [
    "print(f'Штангенциркуль: ({science_notation(d1_mean, errord1)[0]})мм, микрометр: ({science_notation(d2_mean, errord2)[0]})мм')"
   ]
  },
  {
   "cell_type": "markdown",
   "id": "d74bf2f5",
   "metadata": {},
   "source": [
    "Площадь сечения и погрешности"
   ]
  },
  {
   "cell_type": "code",
   "execution_count": 11,
   "id": "5261941a",
   "metadata": {},
   "outputs": [
    {
     "name": "stdout",
     "output_type": "stream",
     "text": [
      "Площадь сечения = (0.101±0.006)мм^2\n"
     ]
    }
   ],
   "source": [
    "S = np.pi*d2_mean**2/4\n",
    "errorS = 2*S*errord2/d2_mean\n",
    "print(f'Площадь сечения = ({science_notation(S, errorS)[0]})мм^2')"
   ]
  },
  {
   "cell_type": "code",
   "execution_count": 12,
   "id": "1a0009a0",
   "metadata": {},
   "outputs": [
    {
     "name": "stdout",
     "output_type": "stream",
     "text": [
      "\\begin{tabular}{lllllllllll}\n",
      " & 1 & 2 & 3 & 4 & 5 & 6 & 7 & 8 & 9 & 10 \\\\\n",
      "$d_1$, мм & 0.4 & 0.4 & 0.4 & 0.4 & 0.4 & 0.4 & 0.4 & 0.4 & 0.4 & 0.4 \\\\\n",
      "$d_2$, мм & 0.36 & 0.35 & 0.36 & 0.35 & 0.36 & 0.36 & 0.36 & 0.36 & 0.36 & 0.37 \\\\\n",
      "\\end{tabular}\n",
      "\n"
     ]
    },
    {
     "data": {
      "text/html": [
       "<div>\n",
       "<style scoped>\n",
       "    .dataframe tbody tr th:only-of-type {\n",
       "        vertical-align: middle;\n",
       "    }\n",
       "\n",
       "    .dataframe tbody tr th {\n",
       "        vertical-align: top;\n",
       "    }\n",
       "\n",
       "    .dataframe thead th {\n",
       "        text-align: right;\n",
       "    }\n",
       "</style>\n",
       "<table border=\"1\" class=\"dataframe\">\n",
       "  <thead>\n",
       "    <tr style=\"text-align: right;\">\n",
       "      <th></th>\n",
       "      <th>1</th>\n",
       "      <th>2</th>\n",
       "      <th>3</th>\n",
       "      <th>4</th>\n",
       "      <th>5</th>\n",
       "      <th>6</th>\n",
       "      <th>7</th>\n",
       "      <th>8</th>\n",
       "      <th>9</th>\n",
       "      <th>10</th>\n",
       "    </tr>\n",
       "  </thead>\n",
       "  <tbody>\n",
       "    <tr>\n",
       "      <th>$d_1$, мм</th>\n",
       "      <td>0.4</td>\n",
       "      <td>0.4</td>\n",
       "      <td>0.4</td>\n",
       "      <td>0.4</td>\n",
       "      <td>0.4</td>\n",
       "      <td>0.4</td>\n",
       "      <td>0.4</td>\n",
       "      <td>0.4</td>\n",
       "      <td>0.4</td>\n",
       "      <td>0.4</td>\n",
       "    </tr>\n",
       "    <tr>\n",
       "      <th>$d_2$, мм</th>\n",
       "      <td>0.36</td>\n",
       "      <td>0.35</td>\n",
       "      <td>0.36</td>\n",
       "      <td>0.35</td>\n",
       "      <td>0.36</td>\n",
       "      <td>0.36</td>\n",
       "      <td>0.36</td>\n",
       "      <td>0.36</td>\n",
       "      <td>0.36</td>\n",
       "      <td>0.37</td>\n",
       "    </tr>\n",
       "  </tbody>\n",
       "</table>\n",
       "</div>"
      ],
      "text/plain": [
       "              1     2     3     4     5     6     7     8     9    10\n",
       "$d_1$, мм   0.4   0.4   0.4   0.4   0.4   0.4   0.4   0.4   0.4   0.4\n",
       "$d_2$, мм  0.36  0.35  0.36  0.35  0.36  0.36  0.36  0.36  0.36  0.37"
      ]
     },
     "execution_count": 12,
     "metadata": {},
     "output_type": "execute_result"
    }
   ],
   "source": [
    "wire_df.iloc[0] = [str(_) for _ in wire_df.iloc[0]]\n",
    "wire_df.iloc[1] = [str(_) for _ in wire_df.iloc[1]]\n",
    "print(wire_df.style.to_latex())\n",
    "wire_df"
   ]
  },
  {
   "cell_type": "markdown",
   "id": "2f213a06",
   "metadata": {},
   "source": [
    "## Показания вольтметра и амперметра"
   ]
  },
  {
   "cell_type": "code",
   "execution_count": 13,
   "id": "02e7e46d",
   "metadata": {},
   "outputs": [],
   "source": [
    "t3 = []\n",
    "wlens = [20, 30, 50]\n",
    "for i in wlens:\n",
    "    t3.append([pd.read_csv(f'data/t3_{i}_up.csv', encoding='ansi', sep=';'), pd.read_csv(f'data/t3_{i}_down.csv', encoding='ansi', sep=';')])"
   ]
  },
  {
   "cell_type": "code",
   "execution_count": 14,
   "id": "d36bcbe2",
   "metadata": {},
   "outputs": [
    {
     "data": {
      "text/plain": [
       "array([2.5       , 1.66666667, 1.        ])"
      ]
     },
     "execution_count": 14,
     "metadata": {},
     "output_type": "execute_result"
    }
   ],
   "source": [
    "np.array([0.5, 0.5, 0.5])/np.array(wlens) * 100"
   ]
  },
  {
   "cell_type": "code",
   "execution_count": 15,
   "id": "c95fec12",
   "metadata": {},
   "outputs": [],
   "source": [
    "# for i in range(3):\n",
    "#     for j in range(2):\n",
    "#         t3[i][j]['I, мА'] = [str(q) for q in t3[i][j]['I, мА']]\n",
    "\n",
    "# g = pd.concat([t3[0][0], t3[0][1]])\n",
    "# for i in range(1, 3):\n",
    "#     g = pd.concat([g, pd.concat([t3[i][0], t3[i][1]])], axis=1)\n",
    "# print(g.style.to_latex())"
   ]
  },
  {
   "cell_type": "code",
   "execution_count": 19,
   "id": "a6e6dfe2",
   "metadata": {},
   "outputs": [
    {
     "name": "stdout",
     "output_type": "stream",
     "text": [
      "r(l=20)=(2.13±0.03) Ом\n",
      "r(l=30)=(3.22±0.03) Ом\n",
      "r(l=50)=(5.32±0.04) Ом\n"
     ]
    },
    {
     "data": {
      "text/plain": [
       "<matplotlib.legend.Legend at 0x24db898beb0>"
      ]
     },
     "execution_count": 19,
     "metadata": {},
     "output_type": "execute_result"
    },
    {
     "data": {
      "image/png": "[encoded data removed]",
      "text/plain": [
       "<Figure size 864x864 with 1 Axes>"
      ]
     },
     "metadata": {
      "needs_background": "light"
     },
     "output_type": "display_data"
    }
   ],
   "source": [
    "fig, ax = plt.subplots(figsize=(12, 12))\n",
    "ax.set_ylabel('I, mA')\n",
    "ax.set_xlabel('U, mV')\n",
    "ax.set_title(f'I(U)')\n",
    "\n",
    "rs = []\n",
    "errRs = []\n",
    "colors = ['blue', 'orange', 'green']\n",
    "for i, wlen in enumerate(wlens):\n",
    "    X = np.concatenate((t3[i][0]['I, мА'].values, t3[i][1]['I, мА'].values), axis=0)\n",
    "    Y = np.concatenate((t3[i][0]['V, мВ'].values, t3[i][1]['V, мВ'].values), axis=0)\n",
    "    \n",
    "    maxI = min(X)\n",
    "    maxU = min(Y)\n",
    "    epsR = np.sqrt((0.01/maxI)**2 + (2/maxU)**2)\n",
    "    \n",
    "    ax.scatter(t3[i][0]['V, мВ'].values, t3[i][0]['I, мА'].values, marker='o', c=colors[i])\n",
    "    ax.scatter(t3[i][1]['V, мВ'].values, t3[i][1]['I, мА'].values, marker='s', c=colors[i])\n",
    "    b, sb = mnk_a0(t3[i][j]['I, мА'].values, t3[i][j]['V, мВ'].values)\n",
    "\n",
    "    x = np.array([int(min(Y)*0.9), int(max(Y)*1.1)])\n",
    "    y = x/b\n",
    "    errRs.append([epsR * b, sb])\n",
    "    sb = np.sqrt(sb**2 + (b*epsR)**2)\n",
    "    \n",
    "#     ax.plot(x, y, label=f'l={wlen} см, y = r*I, r=({science_notation(b, sb)[0]}) Ом')\n",
    "    ax.plot(x, y, label=f'{i+1}')\n",
    "    rs.append([b, sb])\n",
    "    print(f'r(l={wlen})=({science_notation(b, sb)[0]}) Ом')\n",
    "\n",
    "ax.legend(loc='upper left')"
   ]
  },
  {
   "cell_type": "code",
   "execution_count": 18,
   "id": "4d371348",
   "metadata": {},
   "outputs": [
    {
     "data": {
      "text/plain": [
       "[[0.033254931141600795, 0.0027689161200562928],\n",
       " [0.0328467332178325, 0.008273847485102553],\n",
       " [0.04156314571452543, 0.008003157937501715]]"
      ]
     },
     "execution_count": 18,
     "metadata": {},
     "output_type": "execute_result"
    }
   ],
   "source": [
    "errRs"
   ]
  },
  {
   "cell_type": "markdown",
   "id": "4cd7fcbd",
   "metadata": {},
   "source": [
    "## Результаты измерения сопротивления проволоки"
   ]
  },
  {
   "cell_type": "code",
   "execution_count": 19,
   "id": "f4f1e0b0",
   "metadata": {},
   "outputs": [
    {
     "name": "stdout",
     "output_type": "stream",
     "text": [
      "\\begin{tabular}{llll}\n",
      " & l = 20 см & l = 30 см & l = 50 см \\\\\n",
      "$R_0$ & 2.1204 & 3.2227 & 5.3164 \\\\\n",
      "$R_{ср}$ & 2.13 & 3.22 & 5.32 \\\\\n",
      "$R_{пр}$ & 2.13 & 3.22 & 5.32 \\\\\n",
      "$\\sigma_R^{случ}$ & 0.003 & 0.008 & 0.008 \\\\\n",
      "$\\sigma_R^{сист}$ & 0.03 & 0.03 & 0.04 \\\\\n",
      "$\\sigma_R$ & 0.03 & 0.03 & 0.04 \\\\\n",
      "\\end{tabular}\n",
      "\n"
     ]
    },
    {
     "data": {
      "text/html": [
       "<div>\n",
       "<style scoped>\n",
       "    .dataframe tbody tr th:only-of-type {\n",
       "        vertical-align: middle;\n",
       "    }\n",
       "\n",
       "    .dataframe tbody tr th {\n",
       "        vertical-align: top;\n",
       "    }\n",
       "\n",
       "    .dataframe thead th {\n",
       "        text-align: right;\n",
       "    }\n",
       "</style>\n",
       "<table border=\"1\" class=\"dataframe\">\n",
       "  <thead>\n",
       "    <tr style=\"text-align: right;\">\n",
       "      <th></th>\n",
       "      <th>l = 20 см</th>\n",
       "      <th>l = 30 см</th>\n",
       "      <th>l = 50 см</th>\n",
       "    </tr>\n",
       "  </thead>\n",
       "  <tbody>\n",
       "    <tr>\n",
       "      <th>$R_0$</th>\n",
       "      <td>2.1204</td>\n",
       "      <td>3.2227</td>\n",
       "      <td>5.3164</td>\n",
       "    </tr>\n",
       "    <tr>\n",
       "      <th>$R_{ср}$</th>\n",
       "      <td>2.13</td>\n",
       "      <td>3.22</td>\n",
       "      <td>5.32</td>\n",
       "    </tr>\n",
       "    <tr>\n",
       "      <th>$R_{пр}$</th>\n",
       "      <td>2.13</td>\n",
       "      <td>3.22</td>\n",
       "      <td>5.32</td>\n",
       "    </tr>\n",
       "    <tr>\n",
       "      <th>$\\sigma_R^{случ}$</th>\n",
       "      <td>0.003</td>\n",
       "      <td>0.008</td>\n",
       "      <td>0.008</td>\n",
       "    </tr>\n",
       "    <tr>\n",
       "      <th>$\\sigma_R^{сист}$</th>\n",
       "      <td>0.03</td>\n",
       "      <td>0.03</td>\n",
       "      <td>0.04</td>\n",
       "    </tr>\n",
       "    <tr>\n",
       "      <th>$\\sigma_R$</th>\n",
       "      <td>0.03</td>\n",
       "      <td>0.03</td>\n",
       "      <td>0.04</td>\n",
       "    </tr>\n",
       "  </tbody>\n",
       "</table>\n",
       "</div>"
      ],
      "text/plain": [
       "                  l = 20 см l = 30 см l = 50 см\n",
       "$R_0$                2.1204    3.2227    5.3164\n",
       "$R_{ср}$               2.13      3.22      5.32\n",
       "$R_{пр}$               2.13      3.22      5.32\n",
       "$\\sigma_R^{случ}$     0.003     0.008     0.008\n",
       "$\\sigma_R^{сист}$      0.03      0.03      0.04\n",
       "$\\sigma_R$             0.03      0.03      0.04"
      ]
     },
     "execution_count": 19,
     "metadata": {},
     "output_type": "execute_result"
    }
   ],
   "source": [
    "t4 = pd.read_csv('data/t4.csv', encoding='ansi', sep=';')\n",
    "t4.iloc[0] = [str(i) for i in t4.iloc[0]]\n",
    "t4.iloc[1] = [science_notation(rs[i][0], rs[i][1])[1][0] for i in range(3)]\n",
    "t4.iloc[2] = [science_notation(rs[i][0]*(1+rs[i][0]/5000), rs[i][1])[1][0] for i in range(3)]\n",
    "t4.iloc[3] = [str(round_to_1(errRs[i][1])) for i in range(3)]\n",
    "t4.iloc[4] = [str(round_to_1(errRs[i][0])) for i in range(3)]\n",
    "t4.iloc[5] = [str(round_to_1(rs[i][1])) for i in range(3)]\n",
    "\n",
    "print(t4.style.to_latex())\n",
    "t4"
   ]
  },
  {
   "cell_type": "markdown",
   "id": "7430b398",
   "metadata": {},
   "source": [
    "# Удельное сопротивление"
   ]
  },
  {
   "cell_type": "code",
   "execution_count": 20,
   "id": "be27db0f",
   "metadata": {},
   "outputs": [],
   "source": [
    "ps = [rs[i][0]*S/wlens[i]*100 for i in range(len(wlens))]\n",
    "errps = [ps[i]*np.sqrt((rs[i][1]/rs[i][0])**2 + (2*errord2/d2_mean)**2 + (0.05/wlens[i])**2) for i in range(3)]\n",
    "\n",
    "d = {'l, см': wlens, 'p, $10^{-4}$ Ом*см': [science_notation(ps[i], errps[i])[1][0] for i in range(3)], '$\\sigma_p$, $10^{-4}$ Ом*см': [science_notation(ps[i], errps[i])[1][1] for i in range(3)]}\n",
    "t5 = pd.DataFrame(d)"
   ]
  },
  {
   "cell_type": "code",
   "execution_count": 21,
   "id": "307f15fa",
   "metadata": {},
   "outputs": [
    {
     "name": "stdout",
     "output_type": "stream",
     "text": [
      "\\begin{tabular}{lrll}\n",
      " & l, см & p, $10^{-4}$ Ом*см & $\\sigma_p$, $10^{-4}$ Ом*см \\\\\n",
      "0 & 20 & 1.08 & 0.06 \\\\\n",
      "1 & 30 & 1.09 & 0.06 \\\\\n",
      "2 & 50 & 1.08 & 0.06 \\\\\n",
      "\\end{tabular}\n",
      "\n"
     ]
    },
    {
     "data": {
      "text/html": [
       "<div>\n",
       "<style scoped>\n",
       "    .dataframe tbody tr th:only-of-type {\n",
       "        vertical-align: middle;\n",
       "    }\n",
       "\n",
       "    .dataframe tbody tr th {\n",
       "        vertical-align: top;\n",
       "    }\n",
       "\n",
       "    .dataframe thead th {\n",
       "        text-align: right;\n",
       "    }\n",
       "</style>\n",
       "<table border=\"1\" class=\"dataframe\">\n",
       "  <thead>\n",
       "    <tr style=\"text-align: right;\">\n",
       "      <th></th>\n",
       "      <th>l, см</th>\n",
       "      <th>p, $10^{-4}$ Ом*см</th>\n",
       "      <th>$\\sigma_p$, $10^{-4}$ Ом*см</th>\n",
       "    </tr>\n",
       "  </thead>\n",
       "  <tbody>\n",
       "    <tr>\n",
       "      <th>0</th>\n",
       "      <td>20</td>\n",
       "      <td>1.08</td>\n",
       "      <td>0.06</td>\n",
       "    </tr>\n",
       "    <tr>\n",
       "      <th>1</th>\n",
       "      <td>30</td>\n",
       "      <td>1.09</td>\n",
       "      <td>0.06</td>\n",
       "    </tr>\n",
       "    <tr>\n",
       "      <th>2</th>\n",
       "      <td>50</td>\n",
       "      <td>1.08</td>\n",
       "      <td>0.06</td>\n",
       "    </tr>\n",
       "  </tbody>\n",
       "</table>\n",
       "</div>"
      ],
      "text/plain": [
       "   l, см p, $10^{-4}$ Ом*см $\\sigma_p$, $10^{-4}$ Ом*см\n",
       "0     20               1.08                        0.06\n",
       "1     30               1.09                        0.06\n",
       "2     50               1.08                        0.06"
      ]
     },
     "execution_count": 21,
     "metadata": {},
     "output_type": "execute_result"
    }
   ],
   "source": [
    "print(t5.style.to_latex())\n",
    "t5"
   ]
  },
  {
   "cell_type": "code",
   "execution_count": 22,
   "id": "fba9410d",
   "metadata": {},
   "outputs": [
    {
     "data": {
      "text/plain": [
       "(2e-05, 0.0031936437488846317)"
      ]
     },
     "execution_count": 22,
     "metadata": {},
     "output_type": "execute_result"
    }
   ],
   "source": [
    "0.05/wlens[i]**2, (2*errord2/d2_mean)**2"
   ]
  },
  {
   "cell_type": "code",
   "execution_count": 23,
   "id": "8f88d52f",
   "metadata": {},
   "outputs": [],
   "source": [
    "ps = [float(t4.iloc[0][i])*S/wlens[i]*100 for i in range(len(wlens))]\n",
    "errps = [ps[i]*np.sqrt((0.0001/float(t4.iloc[0][i]))**2 + (2*errord2/d2_mean)**2 + (0.05/wlens[i])**2) for i in range(3)]\n",
    "\n",
    "d = {'l, см': wlens, 'p, $10^{-4}$ Ом*см': [science_notation(ps[i], errps[i])[1][0] for i in range(3)], '$\\sigma_p$, $10^{-4}$ Ом*см': [science_notation(ps[i], errps[i])[1][1] for i in range(3)]}\n",
    "t6 = pd.DataFrame(d)"
   ]
  },
  {
   "cell_type": "code",
   "execution_count": 24,
   "id": "b8d58ae5",
   "metadata": {},
   "outputs": [
    {
     "name": "stdout",
     "output_type": "stream",
     "text": [
      "\\begin{tabular}{lrll}\n",
      " & l, см & p, $10^{-4}$ Ом*см & $\\sigma_p$, $10^{-4}$ Ом*см \\\\\n",
      "0 & 20 & 1.07 & 0.06 \\\\\n",
      "1 & 30 & 1.09 & 0.06 \\\\\n",
      "2 & 50 & 1.08 & 0.06 \\\\\n",
      "\\end{tabular}\n",
      "\n"
     ]
    },
    {
     "data": {
      "text/html": [
       "<div>\n",
       "<style scoped>\n",
       "    .dataframe tbody tr th:only-of-type {\n",
       "        vertical-align: middle;\n",
       "    }\n",
       "\n",
       "    .dataframe tbody tr th {\n",
       "        vertical-align: top;\n",
       "    }\n",
       "\n",
       "    .dataframe thead th {\n",
       "        text-align: right;\n",
       "    }\n",
       "</style>\n",
       "<table border=\"1\" class=\"dataframe\">\n",
       "  <thead>\n",
       "    <tr style=\"text-align: right;\">\n",
       "      <th></th>\n",
       "      <th>l, см</th>\n",
       "      <th>p, $10^{-4}$ Ом*см</th>\n",
       "      <th>$\\sigma_p$, $10^{-4}$ Ом*см</th>\n",
       "    </tr>\n",
       "  </thead>\n",
       "  <tbody>\n",
       "    <tr>\n",
       "      <th>0</th>\n",
       "      <td>20</td>\n",
       "      <td>1.07</td>\n",
       "      <td>0.06</td>\n",
       "    </tr>\n",
       "    <tr>\n",
       "      <th>1</th>\n",
       "      <td>30</td>\n",
       "      <td>1.09</td>\n",
       "      <td>0.06</td>\n",
       "    </tr>\n",
       "    <tr>\n",
       "      <th>2</th>\n",
       "      <td>50</td>\n",
       "      <td>1.08</td>\n",
       "      <td>0.06</td>\n",
       "    </tr>\n",
       "  </tbody>\n",
       "</table>\n",
       "</div>"
      ],
      "text/plain": [
       "   l, см p, $10^{-4}$ Ом*см $\\sigma_p$, $10^{-4}$ Ом*см\n",
       "0     20               1.07                        0.06\n",
       "1     30               1.09                        0.06\n",
       "2     50               1.08                        0.06"
      ]
     },
     "execution_count": 24,
     "metadata": {},
     "output_type": "execute_result"
    }
   ],
   "source": [
    "print(t6.style.to_latex())\n",
    "t6"
   ]
  }
 ],
 "metadata": {
  "kernelspec": {
   "display_name": "Python 3 (ipykernel)",
   "language": "python",
   "name": "python3"
  },
  "language_info": {
   "codemirror_mode": {
    "name": "ipython",
    "version": 3
   },
   "file_extension": ".py",
   "mimetype": "text/x-python",
   "name": "python",
   "nbconvert_exporter": "python",
   "pygments_lexer": "ipython3",
   "version": "3.9.12"
  }
 },
 "nbformat": 4,
 "nbformat_minor": 5
}
