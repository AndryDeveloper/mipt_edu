{
 "cells": [
  {
   "cell_type": "code",
   "execution_count": 1,
   "id": "6c44bd4f",
   "metadata": {},
   "outputs": [],
   "source": [
    "import torch\n",
    "from torch import tensor\n",
    "from torch.autograd import grad\n",
    "import numpy as np\n",
    "\n",
    "import pandas as pd\n",
    "import numpy as np\n",
    "import matplotlib.pyplot as plt\n",
    "from math import log10, floor, ceil, frexp"
   ]
  },
  {
   "cell_type": "code",
   "execution_count": 2,
   "id": "0f231736",
   "metadata": {},
   "outputs": [],
   "source": [
    "all_values = []\n",
    "all_errors = []\n",
    "values_dict = {}\n",
    "\n",
    "def mnk(x, y):\n",
    "    b = (np.mean(x*y) - np.mean(x)*np.mean(y))/(np.mean(x**2) - np.mean(x)**2)\n",
    "    a = np.mean(y) - b*np.mean(x)\n",
    "    sb = 1/np.sqrt(len(x)) * np.sqrt((np.mean(y**2) - np.mean(y)**2)/(np.mean(x**2) - np.mean(x)**2) - b**2)\n",
    "    sa = sb*np.sqrt(np.mean(x**2) - np.mean(x)**2)\n",
    "    \n",
    "    return a, b, sa, sb\n",
    "\n",
    "def value(x, err):\n",
    "    values_dict[x] = err\n",
    "    \n",
    "    x = tensor(x, requires_grad=True, dtype=torch.float64)\n",
    "    all_values.append(x)\n",
    "    all_errors.append(err)\n",
    "    return x\n",
    "\n",
    "def get_error(x):\n",
    "    grads = grad(x, all_values, retain_graph=True, allow_unused=True)\n",
    "    res = 0\n",
    "    for i, error in enumerate(all_errors):\n",
    "        if grads[i] is not None:\n",
    "            res += (grads[i]*error)**2\n",
    "    return res**0.5\n",
    "\n",
    "def get_man_exp(x):\n",
    "    e = floor(log10(x))\n",
    "    m = x * 10**(-e)\n",
    "    return m, e\n",
    "\n",
    "def round2one(err):\n",
    "    m, e = get_man_exp(err)\n",
    "    m = round(m, 1)\n",
    "    if int(m) in [1, 2]:\n",
    "        return int(m*10), e - 1\n",
    "    else:\n",
    "        return int(m + 1), e\n",
    "    \n",
    "def science_notation(x, err):\n",
    "    err, er = round2one(err)\n",
    "    x = round(x, -er)\n",
    "    m, e = get_man_exp(x)\n",
    "    \n",
    "    if abs(e) <= 1:\n",
    "        print(f'${x} \\\\pm {err * 10 ** (er)}$')\n",
    "    else:\n",
    "        print(f'$({m} \\\\pm {err * 10 ** (-e+er)}) \\\\cdot 10^{\"{\" + str(e) + \"}\"}$')\n",
    "\n",
    "def show(x, dx):\n",
    "    x = float(x.detach())\n",
    "    dx = float(dx)\n",
    "    return science_notation(x, dx)"
   ]
  },
  {
   "cell_type": "code",
   "execution_count": 3,
   "id": "ef7bce6c",
   "metadata": {},
   "outputs": [],
   "source": [
    "# стартовые параметры\n",
    "\n",
    "g = 9.8\n",
    "\n",
    "R = value(115.5 / 1000, 0.5 / 1000)\n",
    "r = value(30.2 / 1000, 0.3 / 1000)\n",
    "m = value(1026.4 / 1000, 0.5 / 1000)\n",
    "l = value(2160. / 1000, 10 / 1000)"
   ]
  },
  {
   "cell_type": "code",
   "execution_count": 4,
   "id": "965f216c",
   "metadata": {},
   "outputs": [],
   "source": [
    "# параметры грузов\n",
    "m1 = value(730.4 / 1000, 0.1 / 1000)\n",
    "r1_in = value(75.2 / 1000, 0.1 / 1000)\n",
    "r1_out = value(79.3 / 1000, 0.1 / 1000)\n",
    "\n",
    "m2 = value(584.1 / 1000, 0.1 / 1000)\n",
    "r1 = value(5.2 / 1000, 0.1 / 1000)\n",
    "r2 = value(85.3 / 1000, 0.1 / 1000)\n",
    "h0 = value(3.6 / 1000, 0.1 / 1000)\n",
    "h1 = value(26 / 1000, 0.1 / 1000)"
   ]
  },
  {
   "cell_type": "markdown",
   "id": "8b0e8e27",
   "metadata": {},
   "source": [
    "## Расчёт константы установки"
   ]
  },
  {
   "cell_type": "code",
   "execution_count": 5,
   "id": "41d76357",
   "metadata": {},
   "outputs": [
    {
     "name": "stdout",
     "output_type": "stream",
     "text": [
      "$2.158 \\pm 0.01$\n"
     ]
    }
   ],
   "source": [
    "z0 = (l**2 - (R - r)**2)**0.5\n",
    "dz0 = get_error(z0)\n",
    "show(z0, dz0)"
   ]
  },
  {
   "cell_type": "code",
   "execution_count": 6,
   "id": "b1602111",
   "metadata": {},
   "outputs": [
    {
     "name": "stdout",
     "output_type": "stream",
     "text": [
      "$(4.01 \\pm 0.05) \\cdot 10^{-4}$\n",
      "tensor(1.1785, dtype=torch.float64, grad_fn=<MulBackward0>)\n"
     ]
    }
   ],
   "source": [
    "k = g*R*r/(4*np.pi**2*z0)\n",
    "dk = get_error(k)\n",
    "show(k, dk)\n",
    "print(dk/k*100)"
   ]
  },
  {
   "cell_type": "markdown",
   "id": "53e25ebd",
   "metadata": {},
   "source": [
    "## Расчёт моментов инерции грузов (теор)"
   ]
  },
  {
   "cell_type": "code",
   "execution_count": 7,
   "id": "f51e657a",
   "metadata": {},
   "outputs": [
    {
     "name": "stdout",
     "output_type": "stream",
     "text": [
      "$(4.362 \\pm 0.009000000000000001) \\cdot 10^{-3}$\n"
     ]
    }
   ],
   "source": [
    "I1 = 1 / 2 * m1 * (r1_in**2 + r1_out**2)\n",
    "dI1 = get_error(I1)\n",
    "show(I1, dI1)"
   ]
  },
  {
   "cell_type": "code",
   "execution_count": 8,
   "id": "ce4e2428",
   "metadata": {},
   "outputs": [
    {
     "name": "stdout",
     "output_type": "stream",
     "text": [
      "$(2.07 \\pm 0.006) \\cdot 10^{-3}$\n"
     ]
    }
   ],
   "source": [
    "I2 = m2 / 2 * (r1**4 * h1 + r2**4 * h0) / (r1**2 * h1 + r2**2 * h0)\n",
    "dI2 = get_error(I2)\n",
    "show(I2, dI2)"
   ]
  },
  {
   "cell_type": "code",
   "execution_count": null,
   "id": "2227c7a3",
   "metadata": {},
   "outputs": [],
   "source": []
  },
  {
   "cell_type": "markdown",
   "id": "4ca069b6",
   "metadata": {},
   "source": [
    "## Расчёт начального момента инерции"
   ]
  },
  {
   "cell_type": "code",
   "execution_count": 9,
   "id": "b074898a",
   "metadata": {},
   "outputs": [],
   "source": [
    "T0 = value(4.401, 0.01 / 20)"
   ]
  },
  {
   "cell_type": "code",
   "execution_count": 10,
   "id": "a14bbb6d",
   "metadata": {},
   "outputs": [
    {
     "name": "stdout",
     "output_type": "stream",
     "text": [
      "$(7.9799999999999995 \\pm 0.1) \\cdot 10^{-3}$\n"
     ]
    }
   ],
   "source": [
    "I0 = k*m*T0**2\n",
    "dI0 = get_error(I0)\n",
    "show(I0, dI0)"
   ]
  },
  {
   "cell_type": "code",
   "execution_count": null,
   "id": "5e963e36",
   "metadata": {},
   "outputs": [],
   "source": []
  },
  {
   "cell_type": "markdown",
   "id": "93101de1",
   "metadata": {},
   "source": [
    "## Проверка аддитивности моментов инерции"
   ]
  },
  {
   "cell_type": "code",
   "execution_count": 11,
   "id": "224567ff",
   "metadata": {},
   "outputs": [],
   "source": [
    "T11 = value(4.186, 0.01 / 20)\n",
    "T22 = value(3.948, 0.01 / 20)\n",
    "T12 = value(3.928, 0.01 / 20)"
   ]
  },
  {
   "cell_type": "code",
   "execution_count": 12,
   "id": "d8279843",
   "metadata": {},
   "outputs": [],
   "source": [
    "I1_exp = k*(m1 + m)*T11**2 - I0\n",
    "I2_exp = k*(m2 + m)*T22**2 - I0\n",
    "I12_exp = k*(m1 + m2 + m)*T12**2 - I0"
   ]
  },
  {
   "cell_type": "code",
   "execution_count": 13,
   "id": "baaf8544",
   "metadata": {},
   "outputs": [],
   "source": [
    "dI1_exp = get_error(I1_exp)\n",
    "dI2_exp = get_error(I2_exp)\n",
    "dI12_exp = get_error(I12_exp)"
   ]
  },
  {
   "cell_type": "code",
   "execution_count": 14,
   "id": "e6149a62",
   "metadata": {},
   "outputs": [
    {
     "name": "stdout",
     "output_type": "stream",
     "text": [
      "$(4.37 \\pm 0.06) \\cdot 10^{-3}$\n",
      "1.1813145205803592\n"
     ]
    }
   ],
   "source": [
    "show(I1_exp, dI1_exp)\n",
    "print(float(dI1_exp/I1_exp*100))"
   ]
  },
  {
   "cell_type": "code",
   "execution_count": 15,
   "id": "2be86f87",
   "metadata": {},
   "outputs": [
    {
     "name": "stdout",
     "output_type": "stream",
     "text": [
      "$(2.095 \\pm 0.025) \\cdot 10^{-3}$\n",
      "1.1888720754886963\n"
     ]
    }
   ],
   "source": [
    "show(I2_exp, dI2_exp)\n",
    "print(float(dI2_exp/I2_exp*100))"
   ]
  },
  {
   "cell_type": "code",
   "execution_count": 16,
   "id": "ebf88be5",
   "metadata": {},
   "outputs": [
    {
     "name": "stdout",
     "output_type": "stream",
     "text": [
      "$(6.51 \\pm 0.08) \\cdot 10^{-3}$\n",
      "1.1803461398466502\n"
     ]
    }
   ],
   "source": [
    "show(I12_exp, dI12_exp)\n",
    "print(float(dI12_exp/I12_exp*100))"
   ]
  },
  {
   "cell_type": "code",
   "execution_count": 17,
   "id": "970e95f3",
   "metadata": {},
   "outputs": [
    {
     "data": {
      "text/plain": [
       "tensor(-7.8971, dtype=torch.float64, grad_fn=<DivBackward0>)"
      ]
     },
     "execution_count": 17,
     "metadata": {},
     "output_type": "execute_result"
    }
   ],
   "source": [
    "(I1_exp + I2_exp - I12_exp)/get_error(I1_exp + I2_exp - I12_exp)"
   ]
  },
  {
   "cell_type": "markdown",
   "id": "c2ac7d5f",
   "metadata": {},
   "source": [
    "## Нахождение момента инерции тела методом сдвига"
   ]
  },
  {
   "cell_type": "code",
   "execution_count": 17,
   "id": "c7142b3b",
   "metadata": {},
   "outputs": [
    {
     "data": {
      "text/html": [
       "<div>\n",
       "<style scoped>\n",
       "    .dataframe tbody tr th:only-of-type {\n",
       "        vertical-align: middle;\n",
       "    }\n",
       "\n",
       "    .dataframe tbody tr th {\n",
       "        vertical-align: top;\n",
       "    }\n",
       "\n",
       "    .dataframe thead th {\n",
       "        text-align: right;\n",
       "    }\n",
       "</style>\n",
       "<table border=\"1\" class=\"dataframe\">\n",
       "  <thead>\n",
       "    <tr style=\"text-align: right;\">\n",
       "      <th></th>\n",
       "      <th>T</th>\n",
       "      <th>h</th>\n",
       "    </tr>\n",
       "  </thead>\n",
       "  <tbody>\n",
       "    <tr>\n",
       "      <th>0</th>\n",
       "      <td>3.069</td>\n",
       "      <td>0.0000</td>\n",
       "    </tr>\n",
       "    <tr>\n",
       "      <th>1</th>\n",
       "      <td>3.081</td>\n",
       "      <td>0.0096</td>\n",
       "    </tr>\n",
       "    <tr>\n",
       "      <th>2</th>\n",
       "      <td>3.104</td>\n",
       "      <td>0.0192</td>\n",
       "    </tr>\n",
       "    <tr>\n",
       "      <th>3</th>\n",
       "      <td>3.117</td>\n",
       "      <td>0.0288</td>\n",
       "    </tr>\n",
       "    <tr>\n",
       "      <th>4</th>\n",
       "      <td>3.168</td>\n",
       "      <td>0.0384</td>\n",
       "    </tr>\n",
       "    <tr>\n",
       "      <th>5</th>\n",
       "      <td>3.216</td>\n",
       "      <td>0.0480</td>\n",
       "    </tr>\n",
       "    <tr>\n",
       "      <th>6</th>\n",
       "      <td>3.281</td>\n",
       "      <td>0.0576</td>\n",
       "    </tr>\n",
       "    <tr>\n",
       "      <th>7</th>\n",
       "      <td>3.355</td>\n",
       "      <td>0.0672</td>\n",
       "    </tr>\n",
       "    <tr>\n",
       "      <th>8</th>\n",
       "      <td>3.442</td>\n",
       "      <td>0.0768</td>\n",
       "    </tr>\n",
       "    <tr>\n",
       "      <th>9</th>\n",
       "      <td>3.537</td>\n",
       "      <td>0.0864</td>\n",
       "    </tr>\n",
       "    <tr>\n",
       "      <th>10</th>\n",
       "      <td>3.630</td>\n",
       "      <td>0.0960</td>\n",
       "    </tr>\n",
       "    <tr>\n",
       "      <th>11</th>\n",
       "      <td>3.852</td>\n",
       "      <td>0.1152</td>\n",
       "    </tr>\n",
       "  </tbody>\n",
       "</table>\n",
       "</div>"
      ],
      "text/plain": [
       "        T       h\n",
       "0   3.069  0.0000\n",
       "1   3.081  0.0096\n",
       "2   3.104  0.0192\n",
       "3   3.117  0.0288\n",
       "4   3.168  0.0384\n",
       "5   3.216  0.0480\n",
       "6   3.281  0.0576\n",
       "7   3.355  0.0672\n",
       "8   3.442  0.0768\n",
       "9   3.537  0.0864\n",
       "10  3.630  0.0960\n",
       "11  3.852  0.1152"
      ]
     },
     "execution_count": 17,
     "metadata": {},
     "output_type": "execute_result"
    }
   ],
   "source": [
    "df = pd.read_csv('data/3.txt')\n",
    "df.h /= 100\n",
    "df"
   ]
  },
  {
   "cell_type": "code",
   "execution_count": 26,
   "id": "3d26ba51",
   "metadata": {},
   "outputs": [
    {
     "name": "stdout",
     "output_type": "stream",
     "text": [
      "\\begin{tabular}{lrrrr}\n",
      " & T & h & $h^2$ & $T^2$ \\\\\n",
      "0 & 3.069000 & 0.000000 & 0.000000 & 9.418761 \\\\\n",
      "1 & 3.081000 & 0.009600 & 0.000092 & 9.492561 \\\\\n",
      "2 & 3.104000 & 0.019200 & 0.000369 & 9.634816 \\\\\n",
      "3 & 3.117000 & 0.028800 & 0.000829 & 9.715689 \\\\\n",
      "4 & 3.168000 & 0.038400 & 0.001475 & 10.036224 \\\\\n",
      "5 & 3.216000 & 0.048000 & 0.002304 & 10.342656 \\\\\n",
      "6 & 3.281000 & 0.057600 & 0.003318 & 10.764961 \\\\\n",
      "7 & 3.355000 & 0.067200 & 0.004516 & 11.256025 \\\\\n",
      "8 & 3.442000 & 0.076800 & 0.005898 & 11.847364 \\\\\n",
      "9 & 3.537000 & 0.086400 & 0.007465 & 12.510369 \\\\\n",
      "10 & 3.630000 & 0.096000 & 0.009216 & 13.176900 \\\\\n",
      "11 & 3.852000 & 0.115200 & 0.013271 & 14.837904 \\\\\n",
      "\\end{tabular}\n",
      "\n"
     ]
    }
   ],
   "source": [
    "print(df.style.to_latex())"
   ]
  },
  {
   "cell_type": "code",
   "execution_count": 19,
   "id": "e4da5e35",
   "metadata": {},
   "outputs": [
    {
     "data": {
      "text/plain": [
       "0     0.000000\n",
       "1     0.000092\n",
       "2     0.000369\n",
       "3     0.000829\n",
       "4     0.001475\n",
       "5     0.002304\n",
       "6     0.003318\n",
       "7     0.004516\n",
       "8     0.005898\n",
       "9     0.007465\n",
       "10    0.009216\n",
       "11    0.013271\n",
       "Name: h, dtype: float64"
      ]
     },
     "execution_count": 19,
     "metadata": {},
     "output_type": "execute_result"
    }
   ],
   "source": [
    "df.h**2"
   ]
  },
  {
   "cell_type": "code",
   "execution_count": 20,
   "id": "4763533b",
   "metadata": {},
   "outputs": [
    {
     "data": {
      "text/plain": [
       "(0.0002304, 0.003852)"
      ]
     },
     "execution_count": 20,
     "metadata": {},
     "output_type": "execute_result"
    }
   ],
   "source": [
    "2 * 0.1152 * 1/1000, 2 * 3.852 * 0.01 / 20"
   ]
  },
  {
   "cell_type": "code",
   "execution_count": 21,
   "id": "54a4e44a",
   "metadata": {},
   "outputs": [
    {
     "name": "stdout",
     "output_type": "stream",
     "text": [
      "$9.429 \\pm 0.009000000000000001$\n",
      "$(4.078 \\pm 0.02) \\cdot 10^{2}$\n",
      "None None\n"
     ]
    },
    {
     "data": {
      "image/png": "[encoded data removed]",
      "text/plain": [
       "<Figure size 1008x720 with 1 Axes>"
      ]
     },
     "metadata": {
      "needs_background": "light"
     },
     "output_type": "display_data"
    }
   ],
   "source": [
    "plt.rc('font', size=22)\n",
    "\n",
    "fig, ax = plt.subplots(figsize=(14, 10))\n",
    "ax.spines['bottom'].set_linewidth(2)\n",
    "ax.spines['top'].set_linewidth(2)\n",
    "ax.spines['right'].set_linewidth(2)\n",
    "ax.spines['left'].set_linewidth(2)\n",
    "\n",
    "ax.xaxis.set_tick_params(width=2, length=7)\n",
    "ax.yaxis.set_tick_params(width=2, length=7)\n",
    "\n",
    "ax.scatter(df.h**2 * 1000, df['T']**2, linewidth=2)\n",
    "a, b, sa, sb = mnk(df.h**2, df['T']**2)\n",
    "\n",
    "X = np.array([min(df.h**2 * 1000)*0.9, max(df.h**2 * 1000)*1.02])\n",
    "Y = a + b*X/1000\n",
    "ax.plot(X, Y, linewidth=2)\n",
    "L = b\n",
    "sL = sb\n",
    "Mtr1 = -a\n",
    "\n",
    "ax.set_xlabel(r\"$d^2, м^2 \\cdot 10^{-3}$\")\n",
    "ax.set_ylabel(r\"$T^2, с^2$\")\n",
    "\n",
    "fig.savefig(r'D:\\LabProjects\\1.2.3\\report\\images\\1.eps', format='eps')\n",
    "\n",
    "sa = np.sqrt(0.003852**2 + sa**2)\n",
    "sb = np.sqrt(0.0002304**2 + sb**2)\n",
    "print(science_notation(a, sa), science_notation(b, sb))"
   ]
  },
  {
   "cell_type": "code",
   "execution_count": null,
   "id": "57e9b6f8",
   "metadata": {},
   "outputs": [],
   "source": []
  },
  {
   "cell_type": "code",
   "execution_count": 22,
   "id": "38415e03",
   "metadata": {},
   "outputs": [
    {
     "data": {
      "text/plain": [
       "((9.429290780520688, 0.00894681296695206),\n",
       " (407.8290044139507, 2.012411400308985))"
      ]
     },
     "execution_count": 22,
     "metadata": {},
     "output_type": "execute_result"
    }
   ],
   "source": [
    "(a, sa), (b, sb)"
   ]
  },
  {
   "cell_type": "code",
   "execution_count": 23,
   "id": "2586f4fb",
   "metadata": {},
   "outputs": [],
   "source": [
    "k_g = value(407.8290044139507, 2.012411400308985)\n",
    "b_g = value(9.429290780520684, 0.008075119705917306)"
   ]
  },
  {
   "cell_type": "code",
   "execution_count": 24,
   "id": "c51720b6",
   "metadata": {},
   "outputs": [],
   "source": [
    "M = value(763.45 / 1000, 0.1 / 1000)"
   ]
  },
  {
   "cell_type": "code",
   "execution_count": 25,
   "id": "af5111bf",
   "metadata": {},
   "outputs": [
    {
     "name": "stdout",
     "output_type": "stream",
     "text": [
      "$(3.6660000000000004 \\pm 0.018000000000000002) \\cdot 10^{-4}$\n",
      "0.49386138034029464\n"
     ]
    }
   ],
   "source": [
    "k_diff = M / (2 * (2 * M + m) * k_g)\n",
    "dk_diff = get_error(k_diff)\n",
    "show(k_diff, dk_diff)\n",
    "print(float(dk_diff/k_diff)*100)"
   ]
  },
  {
   "cell_type": "code",
   "execution_count": 26,
   "id": "6f625b53",
   "metadata": {},
   "outputs": [
    {
     "name": "stdout",
     "output_type": "stream",
     "text": [
      "$(4.01 \\pm 0.05) \\cdot 10^{-4}$\n",
      "1.1785197641197487\n"
     ]
    }
   ],
   "source": [
    "show(k, dk)\n",
    "print(float(dk/k*100))"
   ]
  },
  {
   "cell_type": "code",
   "execution_count": 33,
   "id": "a9d19e0b",
   "metadata": {},
   "outputs": [
    {
     "name": "stdout",
     "output_type": "stream",
     "text": [
      "$(8.42 \\pm 0.11) \\cdot 10^{-4}$\n",
      "1.2876492460432354\n"
     ]
    }
   ],
   "source": [
    "Ik = (b_g*k*(2 * M + m) - I0) / 2\n",
    "dIk = get_error(Ik)\n",
    "show(Ik, dIk)\n",
    "print(float(dIk/Ik)*100)"
   ]
  },
  {
   "cell_type": "markdown",
   "id": "60c51997",
   "metadata": {},
   "source": [
    "## Теор расчёт искомого момента инерции"
   ]
  },
  {
   "cell_type": "code",
   "execution_count": 30,
   "id": "8f69bd99",
   "metadata": {},
   "outputs": [],
   "source": [
    "Rt = value(45.6 / 1000, 0.1 / 1000)"
   ]
  },
  {
   "cell_type": "code",
   "execution_count": 31,
   "id": "cb4c7385",
   "metadata": {},
   "outputs": [
    {
     "name": "stdout",
     "output_type": "stream",
     "text": [
      "$(7.94 \\pm 0.04) \\cdot 10^{-4}$\n",
      "0.4387920362884169\n"
     ]
    }
   ],
   "source": [
    "Ikt = M*Rt**2/2\n",
    "dIkt = get_error(Ikt)\n",
    "show(Ikt, dIkt)\n",
    "print(float(dIkt/Ikt)*100)"
   ]
  }
 ],
 "metadata": {
  "kernelspec": {
   "display_name": "Python 3 (ipykernel)",
   "language": "python",
   "name": "python3"
  },
  "language_info": {
   "codemirror_mode": {
    "name": "ipython",
    "version": 3
   },
   "file_extension": ".py",
   "mimetype": "text/x-python",
   "name": "python",
   "nbconvert_exporter": "python",
   "pygments_lexer": "ipython3",
   "version": "3.9.12"
  }
 },
 "nbformat": 4,
 "nbformat_minor": 5
}
