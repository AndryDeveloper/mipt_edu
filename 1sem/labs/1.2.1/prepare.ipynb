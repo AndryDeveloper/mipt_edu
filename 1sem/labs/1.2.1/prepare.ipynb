{
 "cells": [
  {
   "cell_type": "code",
   "execution_count": 1,
   "id": "25c36c6c",
   "metadata": {},
   "outputs": [],
   "source": [
    "import torch\n",
    "from torch import tensor\n",
    "from torch.autograd import grad\n",
    "import numpy as np\n",
    "\n",
    "import pandas as pd\n",
    "import numpy as np\n",
    "import matplotlib.pyplot as plt\n",
    "from math import log10, floor, ceil, frexp"
   ]
  },
  {
   "cell_type": "code",
   "execution_count": 2,
   "id": "d22210b3",
   "metadata": {},
   "outputs": [],
   "source": [
    "def mnk(x, y):\n",
    "    b = (np.mean(x*y) - np.mean(x)*np.mean(y))/(np.mean(x**2) - np.mean(x)**2)\n",
    "    a = np.mean(y) - b*np.mean(x)\n",
    "    sb = 1/np.sqrt(len(x)) * np.sqrt((np.mean(y**2) - np.mean(y)**2)/(np.mean(x**2) - np.mean(x)**2) - b**2)\n",
    "    sa = sb*np.sqrt(np.mean(x**2) - np.mean(x)**2)\n",
    "    \n",
    "    return a, b, sa, sb\n",
    "\n",
    "def value(x, err):\n",
    "    values_dict[x] = err\n",
    "    \n",
    "    x = tensor(x, requires_grad=True, dtype=torch.float64)\n",
    "    all_values.append(x)\n",
    "    all_errors.append(err)\n",
    "    return x\n",
    "\n",
    "def get_error(x):\n",
    "    grads = grad(x, all_values, retain_graph=True, allow_unused=True)\n",
    "    res = 0\n",
    "    for i, error in enumerate(all_errors):\n",
    "        if grads[i] is not None:\n",
    "            res += (grads[i]*error)**2\n",
    "    return res**0.5\n",
    "\n",
    "def get_man_exp(x):\n",
    "    e = floor(log10(x))\n",
    "    m = x * 10**(-e)\n",
    "    return m, e\n",
    "\n",
    "def round2one(err):\n",
    "    m, e = get_man_exp(err)\n",
    "    m = round(m, 1)\n",
    "    if int(m) in [1, 2]:\n",
    "        return int(m*10), e - 1\n",
    "    else:\n",
    "        return int(m + 1), e\n",
    "    \n",
    "def science_notation(x, err):\n",
    "    err, er = round2one(err)\n",
    "    x = round(x, -er)\n",
    "    m, e = get_man_exp(x)\n",
    "    \n",
    "    if abs(e) <= 1:\n",
    "        print(f'${x} \\\\pm {err * 10 ** (er)}$')\n",
    "    else:\n",
    "        print(f'$({m} \\\\pm {err * 10 ** (-e+er)}) \\\\cdot 10^{\"{\" + str(e) + \"}\"}$')\n",
    "\n",
    "def show(x, dx):\n",
    "    x = float(x.detach())\n",
    "    dx = float(dx)\n",
    "    return science_notation(x, dx)\n",
    "\n",
    "def mnk_a0(x, y):\n",
    "    b = np.mean(x*y)/np.mean(x**2)\n",
    "    sb = 1/np.sqrt(len(x)) * np.sqrt((np.mean(y**2)/np.mean(x**2)) - b**2)\n",
    "    \n",
    "    return b, sb"
   ]
  },
  {
   "cell_type": "code",
   "execution_count": 3,
   "id": "f9cea052",
   "metadata": {},
   "outputs": [],
   "source": [
    "all_values = []\n",
    "all_errors = []\n",
    "values_dict = {}\n",
    "\n",
    "df1 = pd.read_csv('data/1.txt')\n",
    "df2 = pd.read_csv('data/2.txt')\n",
    "\n",
    "M = value(2.9, 5/1000)\n",
    "L = value(221/100, 0.5/100)\n",
    "m1 = value(729.9/1000, 0.1/1000)\n",
    "m2 = value(730.6/1000, 0.1/1000)\n",
    "R = value(36/100, 0.4/100)\n",
    "r = value(20.4/100, 0.4/100)\n",
    "d = value(4.5/1000, 0.1/1000)\n",
    "T1 = value(6.683, 0.2/11)\n",
    "T2 = value(4.993, 0.2/11)\n",
    "l = value(143/100, 0.5/100)\n",
    "g = 9.8\n",
    "\n",
    "ms1 = [value(t/1000, 0.0001/1000) for t in df1.m]\n",
    "As1 = [value(t/1000, 0.25/1000) for t in df1.A]\n",
    "\n",
    "ms2 = [value(t/1000, 0.0001/1000) for t in df2.m]\n",
    "As2 = [value(t/100, 0.25/1000) for t in df2.A]"
   ]
  },
  {
   "cell_type": "code",
   "execution_count": 4,
   "id": "fd046865",
   "metadata": {},
   "outputs": [
    {
     "name": "stdout",
     "output_type": "stream",
     "text": [
      "\\begin{tabular}{lrr}\n",
      " & m & A \\\\\n",
      "0 & 0.506800 & 6.000000 \\\\\n",
      "1 & 0.506700 & 5.800000 \\\\\n",
      "2 & 0.512400 & 6.000000 \\\\\n",
      "3 & 0.500700 & 6.200000 \\\\\n",
      "4 & 0.506300 & 6.000000 \\\\\n",
      "\\end{tabular}\n",
      "\n"
     ]
    }
   ],
   "source": [
    "print(df2.style.to_latex())"
   ]
  },
  {
   "cell_type": "markdown",
   "id": "cae6e1d0",
   "metadata": {},
   "source": [
    "### Первый эксперимент"
   ]
  },
  {
   "cell_type": "code",
   "execution_count": 5,
   "id": "3bd48611",
   "metadata": {},
   "outputs": [],
   "source": [
    "us = [M/ms1[i] * torch.sqrt(g/L) * As1[i] for i in range(len(ms1))]"
   ]
  },
  {
   "cell_type": "code",
   "execution_count": 6,
   "id": "d360cd90",
   "metadata": {},
   "outputs": [
    {
     "name": "stdout",
     "output_type": "stream",
     "text": [
      "$(1.35 \\pm 0.04) \\cdot 10^{2}$\n",
      "tensor(0.0223, dtype=torch.float64, grad_fn=<DivBackward0>)\n",
      "$(1.36 \\pm 0.04) \\cdot 10^{2}$\n",
      "tensor(0.0223, dtype=torch.float64, grad_fn=<DivBackward0>)\n",
      "$(1.36 \\pm 0.04) \\cdot 10^{2}$\n",
      "tensor(0.0223, dtype=torch.float64, grad_fn=<DivBackward0>)\n",
      "$(1.3900000000000001 \\pm 0.04) \\cdot 10^{2}$\n",
      "tensor(0.0218, dtype=torch.float64, grad_fn=<DivBackward0>)\n",
      "$(1.3800000000000001 \\pm 0.04) \\cdot 10^{2}$\n",
      "tensor(0.0218, dtype=torch.float64, grad_fn=<DivBackward0>)\n"
     ]
    }
   ],
   "source": [
    "for u in us:\n",
    "    su = get_error(u)\n",
    "    show(u, su)\n",
    "    print(su/u)"
   ]
  },
  {
   "cell_type": "code",
   "execution_count": 7,
   "id": "b1d2d67b",
   "metadata": {},
   "outputs": [
    {
     "name": "stdout",
     "output_type": "stream",
     "text": [
      "$(1.368 \\pm 0.014) \\cdot 10^{2}$\n"
     ]
    }
   ],
   "source": [
    "show(sum(us)/5, get_error(sum(us)/5))"
   ]
  },
  {
   "cell_type": "code",
   "execution_count": 8,
   "id": "dce940a1",
   "metadata": {},
   "outputs": [
    {
     "data": {
      "text/plain": [
       "[tensor(64.8741, dtype=torch.float64, grad_fn=<DivBackward0>),\n",
       " tensor(66.1660, dtype=torch.float64, grad_fn=<DivBackward0>),\n",
       " tensor(66.4290, dtype=torch.float64, grad_fn=<DivBackward0>),\n",
       " tensor(69.1668, dtype=torch.float64, grad_fn=<DivBackward0>),\n",
       " tensor(67.6301, dtype=torch.float64, grad_fn=<DivBackward0>)]"
      ]
     },
     "execution_count": 8,
     "metadata": {},
     "output_type": "execute_result"
    }
   ],
   "source": [
    "Q = [ms1[i]*us[i]**2/2 * (1 - ms1[i]/M) for i in range(len(ms1))]\n",
    "delta_T = [Q[i] / (140 * ms1[i]) for i in range(len(ms1))]\n",
    "delta_T"
   ]
  },
  {
   "cell_type": "code",
   "execution_count": null,
   "id": "c55fd024",
   "metadata": {},
   "outputs": [],
   "source": []
  },
  {
   "cell_type": "code",
   "execution_count": 9,
   "id": "d995cd3d",
   "metadata": {},
   "outputs": [
    {
     "name": "stdout",
     "output_type": "stream",
     "text": [
      "$4.74 \\pm 0.1$\n"
     ]
    }
   ],
   "source": [
    "show(sum(Q)/len(Q), get_error(sum(Q)/len(Q)))"
   ]
  },
  {
   "cell_type": "code",
   "execution_count": 10,
   "id": "f0cb429d",
   "metadata": {},
   "outputs": [
    {
     "name": "stdout",
     "output_type": "stream",
     "text": [
      "$4.63 \\pm 0.21$\n",
      "tensor(0.0446, dtype=torch.float64, grad_fn=<DivBackward0>)\n",
      "$4.68 \\pm 0.21$\n",
      "tensor(0.0446, dtype=torch.float64, grad_fn=<DivBackward0>)\n",
      "$4.68 \\pm 0.21$\n",
      "tensor(0.0446, dtype=torch.float64, grad_fn=<DivBackward0>)\n",
      "$4.89 \\pm 0.21$\n",
      "tensor(0.0437, dtype=torch.float64, grad_fn=<DivBackward0>)\n",
      "$4.83 \\pm 0.21$\n",
      "tensor(0.0437, dtype=torch.float64, grad_fn=<DivBackward0>)\n"
     ]
    }
   ],
   "source": [
    "for q in Q:\n",
    "    show(q, get_error(q))\n",
    "    print(get_error(q)/q)"
   ]
  },
  {
   "cell_type": "code",
   "execution_count": 11,
   "id": "42e153ed",
   "metadata": {},
   "outputs": [
    {
     "name": "stdout",
     "output_type": "stream",
     "text": [
      "$64.9 \\pm 2.9000000000000004$\n",
      "tensor(0.0446, dtype=torch.float64, grad_fn=<DivBackward0>)\n",
      "$66.0 \\pm 4$\n",
      "tensor(0.0446, dtype=torch.float64, grad_fn=<DivBackward0>)\n",
      "$66.0 \\pm 4$\n",
      "tensor(0.0446, dtype=torch.float64, grad_fn=<DivBackward0>)\n",
      "$69.0 \\pm 4$\n",
      "tensor(0.0437, dtype=torch.float64, grad_fn=<DivBackward0>)\n",
      "$68.0 \\pm 4$\n",
      "tensor(0.0437, dtype=torch.float64, grad_fn=<DivBackward0>)\n"
     ]
    }
   ],
   "source": [
    "for delta in delta_T:\n",
    "    show(delta, get_error(delta))\n",
    "    print(get_error(delta)/delta)"
   ]
  },
  {
   "cell_type": "code",
   "execution_count": 12,
   "id": "a772ce79",
   "metadata": {},
   "outputs": [
    {
     "name": "stdout",
     "output_type": "stream",
     "text": [
      "$66.9 \\pm 1.3$\n"
     ]
    }
   ],
   "source": [
    "show(sum(delta_T)/len(delta_T), get_error(sum(delta_T)/len(delta_T)))"
   ]
  },
  {
   "cell_type": "markdown",
   "id": "3a7adb13",
   "metadata": {},
   "source": [
    "### Второй эксперимент"
   ]
  },
  {
   "cell_type": "code",
   "execution_count": 13,
   "id": "84d825cb",
   "metadata": {},
   "outputs": [],
   "source": [
    "skI = 2*np.pi*((m1+m2)*R**2*T1)/(T1**2 - T2**2)\n",
    "us2 = [skI/(ms2[i]*r) * (As2[i] / l) for i in range(len(ms2))]"
   ]
  },
  {
   "cell_type": "code",
   "execution_count": 14,
   "id": "00864559",
   "metadata": {},
   "outputs": [
    {
     "name": "stdout",
     "output_type": "stream",
     "text": [
      "$0.403 \\pm 0.01$\n"
     ]
    }
   ],
   "source": [
    "show(skI, get_error(skI))"
   ]
  },
  {
   "cell_type": "code",
   "execution_count": 15,
   "id": "8eaa81de",
   "metadata": {},
   "outputs": [
    {
     "name": "stdout",
     "output_type": "stream",
     "text": [
      "$(1.6300000000000001 \\pm 0.06) \\cdot 10^{2}$\n",
      "tensor(0.0329, dtype=torch.float64, grad_fn=<DivBackward0>)\n",
      "$(1.58 \\pm 0.06) \\cdot 10^{2}$\n",
      "tensor(0.0330, dtype=torch.float64, grad_fn=<DivBackward0>)\n",
      "$(1.62 \\pm 0.06) \\cdot 10^{2}$\n",
      "tensor(0.0329, dtype=torch.float64, grad_fn=<DivBackward0>)\n",
      "$(1.71 \\pm 0.06) \\cdot 10^{2}$\n",
      "tensor(0.0329, dtype=torch.float64, grad_fn=<DivBackward0>)\n",
      "$(1.6400000000000001 \\pm 0.06) \\cdot 10^{2}$\n",
      "tensor(0.0329, dtype=torch.float64, grad_fn=<DivBackward0>)\n"
     ]
    }
   ],
   "source": [
    "for u in us2:\n",
    "    su = get_error(u)\n",
    "    show(u, su)\n",
    "    print(su/u)"
   ]
  }
 ],
 "metadata": {
  "kernelspec": {
   "display_name": "Python 3 (ipykernel)",
   "language": "python",
   "name": "python3"
  },
  "language_info": {
   "codemirror_mode": {
    "name": "ipython",
    "version": 3
   },
   "file_extension": ".py",
   "mimetype": "text/x-python",
   "name": "python",
   "nbconvert_exporter": "python",
   "pygments_lexer": "ipython3",
   "version": "3.9.12"
  }
 },
 "nbformat": 4,
 "nbformat_minor": 5
}
