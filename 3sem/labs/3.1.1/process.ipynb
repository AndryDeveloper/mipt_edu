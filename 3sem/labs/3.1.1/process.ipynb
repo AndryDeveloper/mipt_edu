{
 "cells": [
  {
   "cell_type": "code",
   "execution_count": 4,
   "id": "ab2eb401",
   "metadata": {},
   "outputs": [],
   "source": [
    "import sys\n",
    "sys.path.append('D:/mipt_edu/tools/grads')\n",
    "\n",
    "from gradient_errors import Environment\n",
    "import matplotlib.pyplot as plt\n",
    "import numpy as np\n",
    "import torch\n",
    "import pandas as pd"
   ]
  },
  {
   "cell_type": "code",
   "execution_count": 17,
   "id": "dd237d3b",
   "metadata": {},
   "outputs": [],
   "source": [
    "env = Environment('D:/mipt_edu/3sem/labs/3.1.1/data_normal.xlsx')"
   ]
  },
  {
   "cell_type": "code",
   "execution_count": 18,
   "id": "d384e884",
   "metadata": {},
   "outputs": [
    {
     "data": {
      "text/plain": [
       "('5.702', '0.038', -7)"
      ]
     },
     "execution_count": 18,
     "metadata": {},
     "output_type": "execute_result"
    }
   ],
   "source": [
    "r = env.d / 2\n",
    "R = env.D / 2\n",
    "nu0 = 4 * np.pi * 10**(-7)\n",
    "\n",
    "J = env.m * env.l**2 / 12 * (1 + 3*(r / env.l)**2)\n",
    "env.show(J)"
   ]
  },
  {
   "cell_type": "code",
   "execution_count": 19,
   "id": "48485169",
   "metadata": {},
   "outputs": [
    {
     "data": {
      "text/plain": [
       "('1.14', '0.09', -5)"
      ]
     },
     "execution_count": 19,
     "metadata": {},
     "output_type": "execute_result"
    }
   ],
   "source": [
    "B0 = (2 * np.pi / env.T / R) * (nu0 * J * env.L / 2 / np.pi / R / env.x1)**0.5\n",
    "env.show(B0)"
   ]
  },
  {
   "cell_type": "code",
   "execution_count": 23,
   "id": "5eb88202",
   "metadata": {},
   "outputs": [],
   "source": [
    "Isgs = env.C * env.U / 300 * env.n\n",
    "I = 2 * B0 * R / nu0 / env.N * env.x2 / 2 / env.L"
   ]
  },
  {
   "cell_type": "code",
   "execution_count": 25,
   "id": "0ac1513d",
   "metadata": {},
   "outputs": [
    {
     "data": {
      "text/plain": [
       "('5.1', '0.4', -3)"
      ]
     },
     "execution_count": 25,
     "metadata": {},
     "output_type": "execute_result"
    }
   ],
   "source": [
    "env.show(I)"
   ]
  },
  {
   "cell_type": "code",
   "execution_count": 26,
   "id": "a99b65d4",
   "metadata": {},
   "outputs": [
    {
     "data": {
      "text/plain": [
       "('1.48', '0.12', 7)"
      ]
     },
     "execution_count": 26,
     "metadata": {},
     "output_type": "execute_result"
    }
   ],
   "source": [
    "env.show(Isgs)"
   ]
  },
  {
   "cell_type": "code",
   "execution_count": 24,
   "id": "89b78576",
   "metadata": {},
   "outputs": [
    {
     "data": {
      "text/plain": [
       "('2.91', '0.32', 8)"
      ]
     },
     "execution_count": 24,
     "metadata": {},
     "output_type": "execute_result"
    }
   ],
   "source": [
    "c = 0.1 * Isgs / I\n",
    "env.show(c)"
   ]
  }
 ],
 "metadata": {
  "kernelspec": {
   "display_name": "Python 3 (ipykernel)",
   "language": "python",
   "name": "python3"
  },
  "language_info": {
   "codemirror_mode": {
    "name": "ipython",
    "version": 3
   },
   "file_extension": ".py",
   "mimetype": "text/x-python",
   "name": "python",
   "nbconvert_exporter": "python",
   "pygments_lexer": "ipython3",
   "version": "3.9.12"
  }
 },
 "nbformat": 4,
 "nbformat_minor": 5
}
