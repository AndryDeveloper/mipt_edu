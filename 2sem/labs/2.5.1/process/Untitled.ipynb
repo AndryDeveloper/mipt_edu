{
 "cells": [
  {
   "cell_type": "code",
   "execution_count": 1,
   "id": "ab2eb401",
   "metadata": {},
   "outputs": [],
   "source": [
    "from gradient_errors import Environment\n",
    "import matplotlib.pyplot as plt\n",
    "import numpy as np\n",
    "import torch\n",
    "import pandas as pd"
   ]
  },
  {
   "cell_type": "code",
   "execution_count": 2,
   "id": "dd237d3b",
   "metadata": {},
   "outputs": [
    {
     "name": "stderr",
     "output_type": "stream",
     "text": [
      "D:\\anaconda3\\lib\\site-packages\\openpyxl\\worksheet\\_reader.py:312: UserWarning: Sparkline Group extension is not supported and will be removed\n",
      "  warn(msg)\n"
     ]
    }
   ],
   "source": [
    "env = Environment('data_normal.xlsx')"
   ]
  },
  {
   "cell_type": "markdown",
   "id": "28bf2ed2",
   "metadata": {},
   "source": [
    "### Обработка результатов спирт"
   ]
  },
  {
   "cell_type": "code",
   "execution_count": 3,
   "id": "7d9ec688",
   "metadata": {},
   "outputs": [],
   "source": [
    "d_exp =  4 * 0.022 / (env.P_1 * 0.2 * env.g)"
   ]
  },
  {
   "cell_type": "code",
   "execution_count": 4,
   "id": "588eea50",
   "metadata": {},
   "outputs": [
    {
     "data": {
      "text/plain": [
       "('8.41', '0.10', -4)"
      ]
     },
     "execution_count": 4,
     "metadata": {},
     "output_type": "execute_result"
    }
   ],
   "source": [
    "env.show(d_exp, name='d_exp')"
   ]
  },
  {
   "cell_type": "code",
   "execution_count": 5,
   "id": "93a661a1",
   "metadata": {},
   "outputs": [
    {
     "data": {
      "text/plain": [
       "('9.50', '0.10', -4)"
      ]
     },
     "execution_count": 5,
     "metadata": {},
     "output_type": "execute_result"
    }
   ],
   "source": [
    "env.show(env.d/1000)"
   ]
  },
  {
   "cell_type": "code",
   "execution_count": 6,
   "id": "2547cac5",
   "metadata": {},
   "outputs": [],
   "source": [
    "d_final = (env.d/1000 + d_exp) / 2"
   ]
  },
  {
   "cell_type": "code",
   "execution_count": 7,
   "id": "6ab0da42",
   "metadata": {},
   "outputs": [
    {
     "data": {
      "text/plain": [
       "('8.96', '0.07', -4)"
      ]
     },
     "execution_count": 7,
     "metadata": {},
     "output_type": "execute_result"
    }
   ],
   "source": [
    "env.show(d_final, name='d_final')"
   ]
  },
  {
   "cell_type": "markdown",
   "id": "eb8f4521",
   "metadata": {},
   "source": [
    "### Обработка результатов вода"
   ]
  },
  {
   "cell_type": "code",
   "execution_count": 8,
   "id": "cfbc2804",
   "metadata": {},
   "outputs": [],
   "source": [
    "dp_lin = env.ro * env.g * (env.h_1 - env.h_2) / 100\n",
    "dp_exp = env.P_1 * 0.2 * env.g"
   ]
  },
  {
   "cell_type": "code",
   "execution_count": 9,
   "id": "cfb3578c",
   "metadata": {},
   "outputs": [
    {
     "data": {
      "text/plain": [
       "('1.86', '0.07', 2)"
      ]
     },
     "execution_count": 9,
     "metadata": {},
     "output_type": "execute_result"
    }
   ],
   "source": [
    "env.show(dp_lin, name='dp_lin')"
   ]
  },
  {
   "cell_type": "code",
   "execution_count": 10,
   "id": "88e73dd8",
   "metadata": {},
   "outputs": [
    {
     "data": {
      "text/plain": [
       "('1.046', '0.021', 2)"
      ]
     },
     "execution_count": 10,
     "metadata": {},
     "output_type": "execute_result"
    }
   ],
   "source": [
    "env.show(dp_exp, name='dp_exp')"
   ]
  },
  {
   "cell_type": "code",
   "execution_count": 11,
   "id": "3fe56057",
   "metadata": {},
   "outputs": [],
   "source": [
    "dp_final = (dp_lin + dp_exp) / 2"
   ]
  },
  {
   "cell_type": "code",
   "execution_count": 12,
   "id": "c31314e4",
   "metadata": {},
   "outputs": [
    {
     "data": {
      "text/plain": [
       "('1.45', '0.04', 2)"
      ]
     },
     "execution_count": 12,
     "metadata": {},
     "output_type": "execute_result"
    }
   ],
   "source": [
    "env.show(dp_final, name='dp_final')"
   ]
  },
  {
   "cell_type": "code",
   "execution_count": 13,
   "id": "fb4d5c18",
   "metadata": {},
   "outputs": [
    {
     "data": {
      "text/plain": [
       "tensor([86.5362, 88.5362, 91.8695, 87.8695, 84.5362, 83.5362, 82.8695, 83.2028,\n",
       "        81.8695], dtype=torch.float64, grad_fn=<SubBackward0>)"
      ]
     },
     "execution_count": 13,
     "metadata": {},
     "output_type": "execute_result"
    }
   ],
   "source": [
    "env.T1.P - dp_final"
   ]
  },
  {
   "cell_type": "markdown",
   "id": "53e71ebf",
   "metadata": {},
   "source": [
    "### Графики"
   ]
  },
  {
   "cell_type": "code",
   "execution_count": 14,
   "id": "23e9876a",
   "metadata": {},
   "outputs": [
    {
     "name": "stderr",
     "output_type": "stream",
     "text": [
      "D:\\mipt_edu\\2sem\\labs\\2.5.1\\process\\gradient_errors.py:111: UserWarning: To copy construct from a tensor, it is recommended to use sourceTensor.clone().detach() or sourceTensor.clone().detach().requires_grad_(True), rather than torch.tensor(sourceTensor).\n",
      "  x, y = torch.tensor(x).numpy(), torch.tensor(y).numpy()\n"
     ]
    }
   ],
   "source": [
    "ro_t = (env.T1.P - dp_final) * 0.2 * env.g * d_final / 2\n",
    "sT, sro = env.get_err_bars(env.T1.T, ro_t)\n",
    "a, b = env.chi2(env.T1.T, ro_t, params_name={'a': 'sigma_0', 'b': 'grad_sigma'})"
   ]
  },
  {
   "cell_type": "code",
   "execution_count": 15,
   "id": "4b7a48bb",
   "metadata": {},
   "outputs": [],
   "source": [
    "a_norm, b_norm = env.chi2(env.T1.T[env.T1.T != env.T1.T[2]], ro_t[ro_t != ro_t[2]], params_name={'a': 'sigma_norm', 'b': 'grad_sigma_norm'})"
   ]
  },
  {
   "cell_type": "code",
   "execution_count": 16,
   "id": "6c10aee2",
   "metadata": {},
   "outputs": [
    {
     "name": "stderr",
     "output_type": "stream",
     "text": [
      "The PostScript backend does not support transparency; partially transparent artists will be rendered opaque.\n"
     ]
    },
    {
     "data": {
      "image/png": "[encoded data removed]",
      "text/plain": [
       "<Figure size 1008x720 with 1 Axes>"
      ]
     },
     "metadata": {
      "needs_background": "light"
     },
     "output_type": "display_data"
    }
   ],
   "source": [
    "plt.rc('font', size=22)\n",
    "\n",
    "markers = ['o', 'v', '>', '<', '^', 's', 'D']\n",
    "# markers = ['1', '2', '3', '4', '+', 'x', '.']\n",
    "\n",
    "fig, ax = plt.subplots(figsize=(14, 10))\n",
    "ax.spines['bottom'].set_linewidth(2)\n",
    "ax.spines['top'].set_linewidth(2)\n",
    "ax.spines['right'].set_linewidth(2)\n",
    "ax.spines['left'].set_linewidth(2)\n",
    "ax.grid()\n",
    "\n",
    "Ro, T = ro_t.detach().numpy(), env.T1.T.detach().numpy()\n",
    "\n",
    "ax.scatter(T, Ro, linewidth=2, c='black')\n",
    "\n",
    "X = np.array([min(T)*0.97, max(T)*1.03])\n",
    "\n",
    "Y = a.item() + b.item()*X\n",
    "ax.plot(X, Y, linewidth=2, c='gray', dashes=[0, 0, 2], label='1')\n",
    "\n",
    "Y = a_norm.item() + b_norm.item()*X\n",
    "ax.plot(X, Y, linewidth=2, c='gray', label='2')\n",
    "\n",
    "ax.errorbar(T, Ro, xerr = sT, yerr = sro, fmt='none', linewidth=2, c='black')\n",
    "ax.legend()\n",
    "\n",
    "ax.set_ylabel(r\"$\\sigma, \\frac{Н}{м}$\")\n",
    "ax.set_xlabel(r\"$T, °C$\")\n",
    "fig.savefig(r'../images/sT.eps', format='eps')"
   ]
  },
  {
   "cell_type": "code",
   "execution_count": 17,
   "id": "ebc52785",
   "metadata": {},
   "outputs": [
    {
     "name": "stdout",
     "output_type": "stream",
     "text": [
      "\\begin{tabular}{lllll}\n",
      " & $T$, \\textcelsius & $\\sigma$, $\\frac{Н}{м}$ & $\\Delta T$, \\textcelsius & $\\Delta \\sigma$, $\\frac{Н}{м}$ \\\\\n",
      "0 & 23.3 & 0.076 & 0.1 & 0.003 \\\\\n",
      "1 & 26.5 & 0.078 & 0.1 & 0.003 \\\\\n",
      "2 & 31.2 & 0.081 & 0.1 & 0.003 \\\\\n",
      "3 & 35.0 & 0.077 & 0.1 & 0.003 \\\\\n",
      "4 & 40.3 & 0.074 & 0.1 & 0.003 \\\\\n",
      "5 & 45.3 & 0.073 & 0.1 & 0.003 \\\\\n",
      "6 & 50.2 & 0.073 & 0.1 & 0.003 \\\\\n",
      "7 & 55.0 & 0.073 & 0.1 & 0.003 \\\\\n",
      "8 & 60.0 & 0.072 & 0.1 & 0.003 \\\\\n",
      "\\end{tabular}\n",
      "\n"
     ]
    }
   ],
   "source": [
    "df = pd.DataFrame.from_dict({\n",
    "    r'$T$, \\textcelsius': [str(round(_, 1)) for _ in T],\n",
    "    r'$\\sigma$, $\\frac{Н}{м}$': [str(round(_, 3)) for _ in Ro],\n",
    "    r'$\\Delta T$, \\textcelsius': [str(round(_, 1)) for _ in sT],\n",
    "    r'$\\Delta \\sigma$, $\\frac{Н}{м}$': [str(round(_, 3)) for _ in sro],\n",
    "})\n",
    "print(df.style.to_latex())"
   ]
  },
  {
   "cell_type": "code",
   "execution_count": null,
   "id": "2a96f4ee",
   "metadata": {},
   "outputs": [],
   "source": []
  },
  {
   "cell_type": "code",
   "execution_count": 18,
   "id": "0952b78a",
   "metadata": {},
   "outputs": [
    {
     "data": {
      "text/plain": [
       "('-1.8', '0.5', -4)"
      ]
     },
     "execution_count": 18,
     "metadata": {},
     "output_type": "execute_result"
    }
   ],
   "source": [
    "env.show(b)"
   ]
  },
  {
   "cell_type": "code",
   "execution_count": 19,
   "id": "289b8a8e",
   "metadata": {},
   "outputs": [
    {
     "data": {
      "text/plain": [
       "('-1.5', '1.2', -4)"
      ]
     },
     "execution_count": 19,
     "metadata": {},
     "output_type": "execute_result"
    }
   ],
   "source": [
    "env.show(b_norm)"
   ]
  },
  {
   "cell_type": "markdown",
   "id": "29145922",
   "metadata": {},
   "source": [
    "### Другие графики"
   ]
  },
  {
   "cell_type": "code",
   "execution_count": 20,
   "id": "557fa9bb",
   "metadata": {},
   "outputs": [
    {
     "name": "stderr",
     "output_type": "stream",
     "text": [
      "D:\\mipt_edu\\2sem\\labs\\2.5.1\\process\\gradient_errors.py:111: UserWarning: To copy construct from a tensor, it is recommended to use sourceTensor.clone().detach() or sourceTensor.clone().detach().requires_grad_(True), rather than torch.tensor(sourceTensor).\n",
      "  x, y = torch.tensor(x).numpy(), torch.tensor(y).numpy()\n",
      "D:\\anaconda3\\lib\\site-packages\\scipy\\optimize\\minpack.py:833: OptimizeWarning: Covariance of the parameters could not be estimated\n",
      "  warnings.warn('Covariance of the parameters could not be estimated',\n"
     ]
    }
   ],
   "source": [
    "q_t = -env.T1.T * b_norm\n",
    "sT, sq = env.get_err_bars(env.T1.T, q_t)\n",
    "aa, bb = env.chi2(env.T1.T, q_t)"
   ]
  },
  {
   "cell_type": "code",
   "execution_count": 21,
   "id": "ef45f07f",
   "metadata": {},
   "outputs": [
    {
     "data": {
      "image/png": "[encoded data removed]",
      "text/plain": [
       "<Figure size 1008x720 with 1 Axes>"
      ]
     },
     "metadata": {
      "needs_background": "light"
     },
     "output_type": "display_data"
    }
   ],
   "source": [
    "plt.rc('font', size=22)\n",
    "\n",
    "markers = ['o', 'v', '>', '<', '^', 's', 'D']\n",
    "# markers = ['1', '2', '3', '4', '+', 'x', '.']\n",
    "\n",
    "fig, ax = plt.subplots(figsize=(14, 10))\n",
    "ax.spines['bottom'].set_linewidth(2)\n",
    "ax.spines['top'].set_linewidth(2)\n",
    "ax.spines['right'].set_linewidth(2)\n",
    "ax.spines['left'].set_linewidth(2)\n",
    "ax.grid()\n",
    "\n",
    "q, T = q_t.detach().numpy(), env.T1.T.detach().numpy()\n",
    "\n",
    "ax.scatter(T, q, linewidth=2, c='black')\n",
    "\n",
    "X = np.array([min(T)*0.97, max(T)*1.03])\n",
    "\n",
    "Y = aa.item() + bb.item()*X\n",
    "ax.plot(X, Y, linewidth=2, c='gray', dashes=[0, 0, 2])\n",
    "\n",
    "ax.errorbar(T, q, xerr = sT, yerr = sq, fmt='none', linewidth=2, c='black')\n",
    "\n",
    "ax.set_ylabel(r\"$q, \\frac{Н}{м}$\")\n",
    "ax.set_xlabel(r\"$T, °C$\")\n",
    "fig.savefig(r'../images/qT.eps', format='eps')"
   ]
  },
  {
   "cell_type": "code",
   "execution_count": 22,
   "id": "9eb3aab5",
   "metadata": {},
   "outputs": [
    {
     "name": "stdout",
     "output_type": "stream",
     "text": [
      "\\begin{tabular}{lllll}\n",
      " & $T$, \\textcelsius & $q$, $\\frac{\\text{Н}}{\\text{м}}$ & $\\Delta T$, \\textcelsius & $\\Delta q$, $\\frac{\\text{Н}}{\\text{м}}$ \\\\\n",
      "0 & 23.3 & 0.003 & 0.1 & 0.001 \\\\\n",
      "1 & 26.5 & 0.004 & 0.1 & 0.001 \\\\\n",
      "2 & 31.2 & 0.005 & 0.1 & 0.001 \\\\\n",
      "3 & 35.0 & 0.005 & 0.1 & 0.001 \\\\\n",
      "4 & 40.3 & 0.006 & 0.1 & 0.001 \\\\\n",
      "5 & 45.3 & 0.007 & 0.1 & 0.001 \\\\\n",
      "6 & 50.2 & 0.008 & 0.1 & 0.001 \\\\\n",
      "7 & 55.0 & 0.008 & 0.1 & 0.002 \\\\\n",
      "8 & 60.0 & 0.009 & 0.1 & 0.002 \\\\\n",
      "\\end{tabular}\n",
      "\n"
     ]
    }
   ],
   "source": [
    "df = pd.DataFrame.from_dict({\n",
    "    r'$T$, \\textcelsius': [str(round(_, 1)) for _ in T],\n",
    "    r'$q$, $\\frac{\\text{Н}}{\\text{м}}$': [str(round(_, 3)) for _ in q],\n",
    "    r'$\\Delta T$, \\textcelsius': [str(round(_, 1)) for _ in sT],\n",
    "    r'$\\Delta q$, $\\frac{\\text{Н}}{\\text{м}}$': [str(round(_, 3)) for _ in sq],\n",
    "})\n",
    "print(df.style.to_latex())"
   ]
  },
  {
   "cell_type": "code",
   "execution_count": 23,
   "id": "cd39948c",
   "metadata": {},
   "outputs": [
    {
     "name": "stderr",
     "output_type": "stream",
     "text": [
      "D:\\mipt_edu\\2sem\\labs\\2.5.1\\process\\gradient_errors.py:111: UserWarning: To copy construct from a tensor, it is recommended to use sourceTensor.clone().detach() or sourceTensor.clone().detach().requires_grad_(True), rather than torch.tensor(sourceTensor).\n",
      "  x, y = torch.tensor(x).numpy(), torch.tensor(y).numpy()\n"
     ]
    }
   ],
   "source": [
    "Uf = ro_t + q_t\n",
    "sT, sU = env.get_err_bars(env.T1.T, Uf)\n",
    "aaa, bbb = env.chi2(env.T1.T, Uf)"
   ]
  },
  {
   "cell_type": "code",
   "execution_count": 24,
   "id": "aa04bec8",
   "metadata": {},
   "outputs": [
    {
     "data": {
      "image/png": "[encoded data removed]",
      "text/plain": [
       "<Figure size 1008x720 with 1 Axes>"
      ]
     },
     "metadata": {
      "needs_background": "light"
     },
     "output_type": "display_data"
    }
   ],
   "source": [
    "plt.rc('font', size=22)\n",
    "\n",
    "markers = ['o', 'v', '>', '<', '^', 's', 'D']\n",
    "# markers = ['1', '2', '3', '4', '+', 'x', '.']\n",
    "\n",
    "fig, ax = plt.subplots(figsize=(14, 10))\n",
    "ax.spines['bottom'].set_linewidth(2)\n",
    "ax.spines['top'].set_linewidth(2)\n",
    "ax.spines['right'].set_linewidth(2)\n",
    "ax.spines['left'].set_linewidth(2)\n",
    "ax.grid()\n",
    "\n",
    "q, T = Uf.detach().numpy(), env.T1.T.detach().numpy()\n",
    "\n",
    "ax.scatter(T, q, linewidth=2, c='black')\n",
    "\n",
    "X = np.array([min(T)*0.97, max(T)*1.03])\n",
    "\n",
    "Y = aaa.item() + bbb.item()*X\n",
    "ax.plot(X, Y, linewidth=2, c='gray', dashes=[0, 0, 2])\n",
    "\n",
    "ax.errorbar(T, q, xerr = sT, yerr = sU, fmt='none', linewidth=2, c='black')\n",
    "\n",
    "ax.set_ylabel(r\"$\\frac{U}{F}, \\frac{Н}{м}$\")\n",
    "ax.set_xlabel(r\"$T, °C$\")\n",
    "fig.savefig(r'../images/qUF.eps', format='eps')"
   ]
  },
  {
   "cell_type": "code",
   "execution_count": 25,
   "id": "6a570917",
   "metadata": {},
   "outputs": [
    {
     "name": "stdout",
     "output_type": "stream",
     "text": [
      "\\begin{tabular}{lllll}\n",
      " & $T$, \\textcelsius & $\\frac{U}{F}$, $\\frac{\\text{Н}}{\\text{м}}$ & $\\Delta T$, \\textcelsius & $\\Delta \\frac{U}{F}$, $\\frac{\\text{Н}}{\\text{м}}$ \\\\\n",
      "0 & 23.3 & 0.079 & 0.1 & 0.001 \\\\\n",
      "1 & 26.5 & 0.082 & 0.1 & 0.001 \\\\\n",
      "2 & 31.2 & 0.085 & 0.1 & 0.001 \\\\\n",
      "3 & 35.0 & 0.082 & 0.1 & 0.001 \\\\\n",
      "4 & 40.3 & 0.08 & 0.1 & 0.001 \\\\\n",
      "5 & 45.3 & 0.08 & 0.1 & 0.001 \\\\\n",
      "6 & 50.2 & 0.08 & 0.1 & 0.001 \\\\\n",
      "7 & 55.0 & 0.081 & 0.1 & 0.002 \\\\\n",
      "8 & 60.0 & 0.081 & 0.1 & 0.002 \\\\\n",
      "\\end{tabular}\n",
      "\n"
     ]
    }
   ],
   "source": [
    "df = pd.DataFrame.from_dict({\n",
    "    r'$T$, \\textcelsius': [str(round(_, 1)) for _ in T],\n",
    "    r'$\\frac{U}{F}$, $\\frac{\\text{Н}}{\\text{м}}$': [str(round(_, 3)) for _ in q],\n",
    "    r'$\\Delta T$, \\textcelsius': [str(round(_, 1)) for _ in sT],\n",
    "    r'$\\Delta \\frac{U}{F}$, $\\frac{\\text{Н}}{\\text{м}}$': [str(round(_, 3)) for _ in sq],\n",
    "})\n",
    "print(df.style.to_latex())"
   ]
  },
  {
   "cell_type": "code",
   "execution_count": 26,
   "id": "5a897cb3",
   "metadata": {},
   "outputs": [
    {
     "data": {
      "text/plain": [
       "('1.45', '0.04', 2)"
      ]
     },
     "execution_count": 26,
     "metadata": {},
     "output_type": "execute_result"
    }
   ],
   "source": [
    "env.show(dp_final, name='dp_final')"
   ]
  }
 ],
 "metadata": {
  "kernelspec": {
   "display_name": "Python 3 (ipykernel)",
   "language": "python",
   "name": "python3"
  },
  "language_info": {
   "codemirror_mode": {
    "name": "ipython",
    "version": 3
   },
   "file_extension": ".py",
   "mimetype": "text/x-python",
   "name": "python",
   "nbconvert_exporter": "python",
   "pygments_lexer": "ipython3",
   "version": "3.9.12"
  }
 },
 "nbformat": 4,
 "nbformat_minor": 5
}
